{
 "cells": [
  {
   "cell_type": "markdown",
   "metadata": {},
   "source": [
    "## Logistic Regression Model Design"
   ]
  },
  {
   "cell_type": "markdown",
   "metadata": {},
   "source": [
    "This is the Python source code used to build the Logistic Regression model. It is done using Jupyter Notebook.\n",
    "\n",
    "First, I import all the required modules and libraries."
   ]
  },
  {
   "cell_type": "code",
   "execution_count": 239,
   "metadata": {},
   "outputs": [],
   "source": [
    "%matplotlib inline\n",
    "import pandas as pd\n",
    "import sys\n",
    "import numpy as np\n",
    "from numpy import mean\n",
    "from numpy import std\n",
    "import matplotlib.pyplot as plt\n",
    "import seaborn as sns; sns.set()\n",
    "from sklearn.linear_model import LogisticRegression\n",
    "from sklearn.ensemble import RandomForestClassifier\n",
    "from sklearn.model_selection import train_test_split\n",
    "from sklearn.model_selection import cross_val_score\n",
    "from sklearn.model_selection import RepeatedStratifiedKFold\n",
    "from sklearn import metrics\n",
    "from sklearn.metrics import roc_curve\n",
    "from sklearn.metrics import roc_auc_score\n",
    "from sklearn.metrics import confusion_matrix"
   ]
  },
  {
   "cell_type": "markdown",
   "metadata": {},
   "source": [
    "In the next step, data is read from a CSV file, and a sample of 10 first rows are displayed. And the shape of the data is shown. Finally, basic statistics from the dataset are displayed."
   ]
  },
  {
   "cell_type": "code",
   "execution_count": 240,
   "metadata": {},
   "outputs": [],
   "source": [
    "# Reading the data from CSV file\n",
    "data = pd.read_csv(\"Logistic_Regression_data_clean.csv\", header=0, sep=',')"
   ]
  },
  {
   "cell_type": "code",
   "execution_count": 241,
   "metadata": {},
   "outputs": [
    {
     "data": {
      "text/html": [
       "<div>\n",
       "<style scoped>\n",
       "    .dataframe tbody tr th:only-of-type {\n",
       "        vertical-align: middle;\n",
       "    }\n",
       "\n",
       "    .dataframe tbody tr th {\n",
       "        vertical-align: top;\n",
       "    }\n",
       "\n",
       "    .dataframe thead th {\n",
       "        text-align: right;\n",
       "    }\n",
       "</style>\n",
       "<table border=\"1\" class=\"dataframe\">\n",
       "  <thead>\n",
       "    <tr style=\"text-align: right;\">\n",
       "      <th></th>\n",
       "      <th>ROW_NUMBER</th>\n",
       "      <th>SUBGROUP</th>\n",
       "      <th>AVG_SPENDING</th>\n",
       "      <th>TARGET_SPENDING</th>\n",
       "      <th>MONTH_1</th>\n",
       "      <th>MONTH_2</th>\n",
       "      <th>MONTH_3</th>\n",
       "      <th>MONTH_4</th>\n",
       "      <th>MONTH_5</th>\n",
       "      <th>MONTH_6</th>\n",
       "      <th>LABEL</th>\n",
       "    </tr>\n",
       "  </thead>\n",
       "  <tbody>\n",
       "    <tr>\n",
       "      <th>0</th>\n",
       "      <td>1</td>\n",
       "      <td>2</td>\n",
       "      <td>22.51</td>\n",
       "      <td>34</td>\n",
       "      <td>92</td>\n",
       "      <td>7</td>\n",
       "      <td>109</td>\n",
       "      <td>93</td>\n",
       "      <td>27</td>\n",
       "      <td>71</td>\n",
       "      <td>0</td>\n",
       "    </tr>\n",
       "    <tr>\n",
       "      <th>1</th>\n",
       "      <td>2</td>\n",
       "      <td>1</td>\n",
       "      <td>129.74</td>\n",
       "      <td>162</td>\n",
       "      <td>225</td>\n",
       "      <td>131</td>\n",
       "      <td>41</td>\n",
       "      <td>43</td>\n",
       "      <td>5</td>\n",
       "      <td>57</td>\n",
       "      <td>1</td>\n",
       "    </tr>\n",
       "    <tr>\n",
       "      <th>2</th>\n",
       "      <td>3</td>\n",
       "      <td>2</td>\n",
       "      <td>226.23</td>\n",
       "      <td>339</td>\n",
       "      <td>86</td>\n",
       "      <td>156</td>\n",
       "      <td>15</td>\n",
       "      <td>12</td>\n",
       "      <td>21</td>\n",
       "      <td>109</td>\n",
       "      <td>0</td>\n",
       "    </tr>\n",
       "    <tr>\n",
       "      <th>3</th>\n",
       "      <td>4</td>\n",
       "      <td>2</td>\n",
       "      <td>177.73</td>\n",
       "      <td>267</td>\n",
       "      <td>123</td>\n",
       "      <td>74</td>\n",
       "      <td>31</td>\n",
       "      <td>32</td>\n",
       "      <td>4</td>\n",
       "      <td>31</td>\n",
       "      <td>0</td>\n",
       "    </tr>\n",
       "    <tr>\n",
       "      <th>4</th>\n",
       "      <td>5</td>\n",
       "      <td>3</td>\n",
       "      <td>359.96</td>\n",
       "      <td>720</td>\n",
       "      <td>105</td>\n",
       "      <td>56</td>\n",
       "      <td>169</td>\n",
       "      <td>37</td>\n",
       "      <td>103</td>\n",
       "      <td>136</td>\n",
       "      <td>1</td>\n",
       "    </tr>\n",
       "    <tr>\n",
       "      <th>5</th>\n",
       "      <td>6</td>\n",
       "      <td>3</td>\n",
       "      <td>146.66</td>\n",
       "      <td>293</td>\n",
       "      <td>96</td>\n",
       "      <td>53</td>\n",
       "      <td>18</td>\n",
       "      <td>161</td>\n",
       "      <td>3</td>\n",
       "      <td>171</td>\n",
       "      <td>1</td>\n",
       "    </tr>\n",
       "    <tr>\n",
       "      <th>6</th>\n",
       "      <td>7</td>\n",
       "      <td>1</td>\n",
       "      <td>314.63</td>\n",
       "      <td>393</td>\n",
       "      <td>202</td>\n",
       "      <td>120</td>\n",
       "      <td>64</td>\n",
       "      <td>35</td>\n",
       "      <td>13</td>\n",
       "      <td>172</td>\n",
       "      <td>1</td>\n",
       "    </tr>\n",
       "    <tr>\n",
       "      <th>7</th>\n",
       "      <td>8</td>\n",
       "      <td>3</td>\n",
       "      <td>255.32</td>\n",
       "      <td>511</td>\n",
       "      <td>139</td>\n",
       "      <td>79</td>\n",
       "      <td>36</td>\n",
       "      <td>11</td>\n",
       "      <td>32</td>\n",
       "      <td>102</td>\n",
       "      <td>0</td>\n",
       "    </tr>\n",
       "    <tr>\n",
       "      <th>8</th>\n",
       "      <td>9</td>\n",
       "      <td>2</td>\n",
       "      <td>323.24</td>\n",
       "      <td>485</td>\n",
       "      <td>25</td>\n",
       "      <td>183</td>\n",
       "      <td>190</td>\n",
       "      <td>79</td>\n",
       "      <td>58</td>\n",
       "      <td>71</td>\n",
       "      <td>1</td>\n",
       "    </tr>\n",
       "    <tr>\n",
       "      <th>9</th>\n",
       "      <td>10</td>\n",
       "      <td>3</td>\n",
       "      <td>399.23</td>\n",
       "      <td>798</td>\n",
       "      <td>271</td>\n",
       "      <td>110</td>\n",
       "      <td>30</td>\n",
       "      <td>72</td>\n",
       "      <td>21</td>\n",
       "      <td>102</td>\n",
       "      <td>1</td>\n",
       "    </tr>\n",
       "  </tbody>\n",
       "</table>\n",
       "</div>"
      ],
      "text/plain": [
       "   ROW_NUMBER  SUBGROUP  AVG_SPENDING  TARGET_SPENDING  MONTH_1  MONTH_2  \\\n",
       "0           1         2         22.51               34       92        7   \n",
       "1           2         1        129.74              162      225      131   \n",
       "2           3         2        226.23              339       86      156   \n",
       "3           4         2        177.73              267      123       74   \n",
       "4           5         3        359.96              720      105       56   \n",
       "5           6         3        146.66              293       96       53   \n",
       "6           7         1        314.63              393      202      120   \n",
       "7           8         3        255.32              511      139       79   \n",
       "8           9         2        323.24              485       25      183   \n",
       "9          10         3        399.23              798      271      110   \n",
       "\n",
       "   MONTH_3  MONTH_4  MONTH_5  MONTH_6  LABEL  \n",
       "0      109       93       27       71      0  \n",
       "1       41       43        5       57      1  \n",
       "2       15       12       21      109      0  \n",
       "3       31       32        4       31      0  \n",
       "4      169       37      103      136      1  \n",
       "5       18      161        3      171      1  \n",
       "6       64       35       13      172      1  \n",
       "7       36       11       32      102      0  \n",
       "8      190       79       58       71      1  \n",
       "9       30       72       21      102      1  "
      ]
     },
     "execution_count": 241,
     "metadata": {},
     "output_type": "execute_result"
    }
   ],
   "source": [
    "#A few rows of data are displayed\n",
    "data.head(10)"
   ]
  },
  {
   "cell_type": "code",
   "execution_count": 242,
   "metadata": {},
   "outputs": [
    {
     "name": "stdout",
     "output_type": "stream",
     "text": [
      "The shape of the data is: (30000, 11)\n"
     ]
    }
   ],
   "source": [
    "print(\"The shape of the data is:\", data.shape)"
   ]
  },
  {
   "cell_type": "code",
   "execution_count": 243,
   "metadata": {},
   "outputs": [
    {
     "data": {
      "text/html": [
       "<div>\n",
       "<style scoped>\n",
       "    .dataframe tbody tr th:only-of-type {\n",
       "        vertical-align: middle;\n",
       "    }\n",
       "\n",
       "    .dataframe tbody tr th {\n",
       "        vertical-align: top;\n",
       "    }\n",
       "\n",
       "    .dataframe thead th {\n",
       "        text-align: right;\n",
       "    }\n",
       "</style>\n",
       "<table border=\"1\" class=\"dataframe\">\n",
       "  <thead>\n",
       "    <tr style=\"text-align: right;\">\n",
       "      <th></th>\n",
       "      <th>ROW_NUMBER</th>\n",
       "      <th>SUBGROUP</th>\n",
       "      <th>AVG_SPENDING</th>\n",
       "      <th>TARGET_SPENDING</th>\n",
       "      <th>MONTH_1</th>\n",
       "      <th>MONTH_2</th>\n",
       "      <th>MONTH_3</th>\n",
       "      <th>MONTH_4</th>\n",
       "      <th>MONTH_5</th>\n",
       "      <th>MONTH_6</th>\n",
       "      <th>LABEL</th>\n",
       "    </tr>\n",
       "  </thead>\n",
       "  <tbody>\n",
       "    <tr>\n",
       "      <th>count</th>\n",
       "      <td>30000.000000</td>\n",
       "      <td>30000.00000</td>\n",
       "      <td>30000.000000</td>\n",
       "      <td>30000.000000</td>\n",
       "      <td>30000.000000</td>\n",
       "      <td>30000.000000</td>\n",
       "      <td>30000.000000</td>\n",
       "      <td>30000.000000</td>\n",
       "      <td>30000.000000</td>\n",
       "      <td>30000.000000</td>\n",
       "      <td>30000.000000</td>\n",
       "    </tr>\n",
       "    <tr>\n",
       "      <th>mean</th>\n",
       "      <td>15000.500000</td>\n",
       "      <td>2.00000</td>\n",
       "      <td>240.060581</td>\n",
       "      <td>379.998033</td>\n",
       "      <td>125.156967</td>\n",
       "      <td>94.198333</td>\n",
       "      <td>70.881367</td>\n",
       "      <td>53.154500</td>\n",
       "      <td>39.616467</td>\n",
       "      <td>120.398967</td>\n",
       "      <td>0.548467</td>\n",
       "    </tr>\n",
       "    <tr>\n",
       "      <th>std</th>\n",
       "      <td>8660.398374</td>\n",
       "      <td>0.81651</td>\n",
       "      <td>125.204707</td>\n",
       "      <td>215.606962</td>\n",
       "      <td>84.349303</td>\n",
       "      <td>67.164752</td>\n",
       "      <td>52.888922</td>\n",
       "      <td>42.000164</td>\n",
       "      <td>32.627681</td>\n",
       "      <td>66.431699</td>\n",
       "      <td>0.497654</td>\n",
       "    </tr>\n",
       "    <tr>\n",
       "      <th>min</th>\n",
       "      <td>1.000000</td>\n",
       "      <td>1.00000</td>\n",
       "      <td>2.850000</td>\n",
       "      <td>4.000000</td>\n",
       "      <td>0.000000</td>\n",
       "      <td>0.000000</td>\n",
       "      <td>0.000000</td>\n",
       "      <td>0.000000</td>\n",
       "      <td>0.000000</td>\n",
       "      <td>7.000000</td>\n",
       "      <td>0.000000</td>\n",
       "    </tr>\n",
       "    <tr>\n",
       "      <th>25%</th>\n",
       "      <td>7500.750000</td>\n",
       "      <td>1.00000</td>\n",
       "      <td>135.530000</td>\n",
       "      <td>206.000000</td>\n",
       "      <td>55.000000</td>\n",
       "      <td>40.000000</td>\n",
       "      <td>29.000000</td>\n",
       "      <td>21.000000</td>\n",
       "      <td>15.000000</td>\n",
       "      <td>73.000000</td>\n",
       "      <td>0.000000</td>\n",
       "    </tr>\n",
       "    <tr>\n",
       "      <th>50%</th>\n",
       "      <td>15000.500000</td>\n",
       "      <td>2.00000</td>\n",
       "      <td>235.340000</td>\n",
       "      <td>362.000000</td>\n",
       "      <td>115.000000</td>\n",
       "      <td>84.000000</td>\n",
       "      <td>60.000000</td>\n",
       "      <td>44.000000</td>\n",
       "      <td>32.000000</td>\n",
       "      <td>106.000000</td>\n",
       "      <td>1.000000</td>\n",
       "    </tr>\n",
       "    <tr>\n",
       "      <th>75%</th>\n",
       "      <td>22500.250000</td>\n",
       "      <td>3.00000</td>\n",
       "      <td>343.295000</td>\n",
       "      <td>526.000000</td>\n",
       "      <td>183.000000</td>\n",
       "      <td>136.000000</td>\n",
       "      <td>101.000000</td>\n",
       "      <td>75.000000</td>\n",
       "      <td>56.000000</td>\n",
       "      <td>152.000000</td>\n",
       "      <td>1.000000</td>\n",
       "    </tr>\n",
       "    <tr>\n",
       "      <th>max</th>\n",
       "      <td>30000.000000</td>\n",
       "      <td>3.00000</td>\n",
       "      <td>585.500000</td>\n",
       "      <td>1167.000000</td>\n",
       "      <td>436.000000</td>\n",
       "      <td>420.000000</td>\n",
       "      <td>364.000000</td>\n",
       "      <td>331.000000</td>\n",
       "      <td>366.000000</td>\n",
       "      <td>662.000000</td>\n",
       "      <td>1.000000</td>\n",
       "    </tr>\n",
       "  </tbody>\n",
       "</table>\n",
       "</div>"
      ],
      "text/plain": [
       "         ROW_NUMBER     SUBGROUP  AVG_SPENDING  TARGET_SPENDING       MONTH_1  \\\n",
       "count  30000.000000  30000.00000  30000.000000     30000.000000  30000.000000   \n",
       "mean   15000.500000      2.00000    240.060581       379.998033    125.156967   \n",
       "std     8660.398374      0.81651    125.204707       215.606962     84.349303   \n",
       "min        1.000000      1.00000      2.850000         4.000000      0.000000   \n",
       "25%     7500.750000      1.00000    135.530000       206.000000     55.000000   \n",
       "50%    15000.500000      2.00000    235.340000       362.000000    115.000000   \n",
       "75%    22500.250000      3.00000    343.295000       526.000000    183.000000   \n",
       "max    30000.000000      3.00000    585.500000      1167.000000    436.000000   \n",
       "\n",
       "            MONTH_2       MONTH_3       MONTH_4       MONTH_5       MONTH_6  \\\n",
       "count  30000.000000  30000.000000  30000.000000  30000.000000  30000.000000   \n",
       "mean      94.198333     70.881367     53.154500     39.616467    120.398967   \n",
       "std       67.164752     52.888922     42.000164     32.627681     66.431699   \n",
       "min        0.000000      0.000000      0.000000      0.000000      7.000000   \n",
       "25%       40.000000     29.000000     21.000000     15.000000     73.000000   \n",
       "50%       84.000000     60.000000     44.000000     32.000000    106.000000   \n",
       "75%      136.000000    101.000000     75.000000     56.000000    152.000000   \n",
       "max      420.000000    364.000000    331.000000    366.000000    662.000000   \n",
       "\n",
       "              LABEL  \n",
       "count  30000.000000  \n",
       "mean       0.548467  \n",
       "std        0.497654  \n",
       "min        0.000000  \n",
       "25%        0.000000  \n",
       "50%        1.000000  \n",
       "75%        1.000000  \n",
       "max        1.000000  "
      ]
     },
     "execution_count": 243,
     "metadata": {},
     "output_type": "execute_result"
    }
   ],
   "source": [
    "# Basic statistics of the dataset\n",
    "data.describe()"
   ]
  },
  {
   "cell_type": "code",
   "execution_count": 244,
   "metadata": {},
   "outputs": [
    {
     "name": "stdout",
     "output_type": "stream",
     "text": [
      "<class 'pandas.core.frame.DataFrame'>\n",
      "RangeIndex: 30000 entries, 0 to 29999\n",
      "Data columns (total 11 columns):\n",
      " #   Column           Non-Null Count  Dtype  \n",
      "---  ------           --------------  -----  \n",
      " 0   ROW_NUMBER       30000 non-null  int64  \n",
      " 1   SUBGROUP         30000 non-null  int64  \n",
      " 2   AVG_SPENDING     30000 non-null  float64\n",
      " 3   TARGET_SPENDING  30000 non-null  int64  \n",
      " 4   MONTH_1          30000 non-null  int64  \n",
      " 5   MONTH_2          30000 non-null  int64  \n",
      " 6   MONTH_3          30000 non-null  int64  \n",
      " 7   MONTH_4          30000 non-null  int64  \n",
      " 8   MONTH_5          30000 non-null  int64  \n",
      " 9   MONTH_6          30000 non-null  int64  \n",
      " 10  LABEL            30000 non-null  int64  \n",
      "dtypes: float64(1), int64(10)\n",
      "memory usage: 2.5 MB\n"
     ]
    }
   ],
   "source": [
    "data.info()"
   ]
  },
  {
   "cell_type": "markdown",
   "metadata": {},
   "source": [
    "### 1. Training the model on the whole dataset"
   ]
  },
  {
   "cell_type": "markdown",
   "metadata": {},
   "source": [
    "In this section, I train the model on the whole dataset, without separating different groups. This provides general performance on the whole group regardless of the price of the offered discounted package."
   ]
  },
  {
   "cell_type": "code",
   "execution_count": 245,
   "metadata": {},
   "outputs": [],
   "source": [
    "# Separate the features into a separate dataframe\n",
    "X = data.drop('LABEL', axis = 1)\\\n",
    "    .drop('SUBGROUP', axis = 1)\\\n",
    "    .drop('AVG_SPENDING', axis = 1)\\\n",
    "    .drop('TARGET_SPENDING', axis = 1)\n",
    "\n",
    "# Separate labels into their own numpy array\n",
    "y = np.array(data['LABEL'])"
   ]
  },
  {
   "cell_type": "code",
   "execution_count": 246,
   "metadata": {},
   "outputs": [
    {
     "data": {
      "text/html": [
       "<div>\n",
       "<style scoped>\n",
       "    .dataframe tbody tr th:only-of-type {\n",
       "        vertical-align: middle;\n",
       "    }\n",
       "\n",
       "    .dataframe tbody tr th {\n",
       "        vertical-align: top;\n",
       "    }\n",
       "\n",
       "    .dataframe thead th {\n",
       "        text-align: right;\n",
       "    }\n",
       "</style>\n",
       "<table border=\"1\" class=\"dataframe\">\n",
       "  <thead>\n",
       "    <tr style=\"text-align: right;\">\n",
       "      <th></th>\n",
       "      <th>ROW_NUMBER</th>\n",
       "      <th>MONTH_1</th>\n",
       "      <th>MONTH_2</th>\n",
       "      <th>MONTH_3</th>\n",
       "      <th>MONTH_4</th>\n",
       "      <th>MONTH_5</th>\n",
       "      <th>MONTH_6</th>\n",
       "    </tr>\n",
       "  </thead>\n",
       "  <tbody>\n",
       "    <tr>\n",
       "      <th>0</th>\n",
       "      <td>1</td>\n",
       "      <td>92</td>\n",
       "      <td>7</td>\n",
       "      <td>109</td>\n",
       "      <td>93</td>\n",
       "      <td>27</td>\n",
       "      <td>71</td>\n",
       "    </tr>\n",
       "    <tr>\n",
       "      <th>1</th>\n",
       "      <td>2</td>\n",
       "      <td>225</td>\n",
       "      <td>131</td>\n",
       "      <td>41</td>\n",
       "      <td>43</td>\n",
       "      <td>5</td>\n",
       "      <td>57</td>\n",
       "    </tr>\n",
       "    <tr>\n",
       "      <th>2</th>\n",
       "      <td>3</td>\n",
       "      <td>86</td>\n",
       "      <td>156</td>\n",
       "      <td>15</td>\n",
       "      <td>12</td>\n",
       "      <td>21</td>\n",
       "      <td>109</td>\n",
       "    </tr>\n",
       "    <tr>\n",
       "      <th>3</th>\n",
       "      <td>4</td>\n",
       "      <td>123</td>\n",
       "      <td>74</td>\n",
       "      <td>31</td>\n",
       "      <td>32</td>\n",
       "      <td>4</td>\n",
       "      <td>31</td>\n",
       "    </tr>\n",
       "    <tr>\n",
       "      <th>4</th>\n",
       "      <td>5</td>\n",
       "      <td>105</td>\n",
       "      <td>56</td>\n",
       "      <td>169</td>\n",
       "      <td>37</td>\n",
       "      <td>103</td>\n",
       "      <td>136</td>\n",
       "    </tr>\n",
       "  </tbody>\n",
       "</table>\n",
       "</div>"
      ],
      "text/plain": [
       "   ROW_NUMBER  MONTH_1  MONTH_2  MONTH_3  MONTH_4  MONTH_5  MONTH_6\n",
       "0           1       92        7      109       93       27       71\n",
       "1           2      225      131       41       43        5       57\n",
       "2           3       86      156       15       12       21      109\n",
       "3           4      123       74       31       32        4       31\n",
       "4           5      105       56      169       37      103      136"
      ]
     },
     "execution_count": 246,
     "metadata": {},
     "output_type": "execute_result"
    }
   ],
   "source": [
    "# A few rows of the X features dataset\n",
    "X[0:5]"
   ]
  },
  {
   "cell_type": "markdown",
   "metadata": {},
   "source": [
    "The label data have already been correctly converted to binary values during the data preprocessing."
   ]
  },
  {
   "cell_type": "code",
   "execution_count": 247,
   "metadata": {},
   "outputs": [
    {
     "data": {
      "text/plain": [
       "array([0, 1, 0, 0, 1], dtype=int64)"
      ]
     },
     "execution_count": 247,
     "metadata": {},
     "output_type": "execute_result"
    }
   ],
   "source": [
    "# A few rows of the y labels\n",
    "y[0:5]"
   ]
  },
  {
   "cell_type": "markdown",
   "metadata": {},
   "source": [
    "In the below, I show the list of columns. Each column represent the total call duration to the specific called party number during one month from the USAGE dataset collected."
   ]
  },
  {
   "cell_type": "code",
   "execution_count": 248,
   "metadata": {},
   "outputs": [
    {
     "data": {
      "text/plain": [
       "['ROW_NUMBER',\n",
       " 'MONTH_1',\n",
       " 'MONTH_2',\n",
       " 'MONTH_3',\n",
       " 'MONTH_4',\n",
       " 'MONTH_5',\n",
       " 'MONTH_6']"
      ]
     },
     "execution_count": 248,
     "metadata": {},
     "output_type": "execute_result"
    }
   ],
   "source": [
    "# Saving features names in a separate list\n",
    "feature_list = list(X.columns)\n",
    "feature_list"
   ]
  },
  {
   "cell_type": "code",
   "execution_count": 249,
   "metadata": {},
   "outputs": [],
   "source": [
    "# Converting the feature dataframe into a numpy array\n",
    "X = np.array(X)"
   ]
  },
  {
   "cell_type": "markdown",
   "metadata": {},
   "source": [
    "In the following I define the Logistic Regression model and generate the 10-fold Cross Validation scores based on Accuracy."
   ]
  },
  {
   "cell_type": "code",
   "execution_count": 250,
   "metadata": {},
   "outputs": [],
   "source": [
    "# Define the model\n",
    "LRModel = LogisticRegression(random_state=42, max_iter=500)\n",
    "\n",
    "#Evaluate the model with 10-folds Cross Validation\n",
    "cross_valid = RepeatedStratifiedKFold(n_splits=10, n_repeats=3, random_state=1)\n",
    "n_scores = cross_val_score(LRModel, X, y, scoring='accuracy', cv=cross_valid, n_jobs=-1, error_score='raise')"
   ]
  },
  {
   "cell_type": "markdown",
   "metadata": {},
   "source": [
    "### 1.1. Logistic Regression model training Accuracy"
   ]
  },
  {
   "cell_type": "markdown",
   "metadata": {},
   "source": [
    "Below the performance Accuracy achieved with 10-fold cross validation is displayed. It can be noticed that the model achieves a relatively high prediction accuracy during training on the whole data set, and evaluating with 10-fold cross validation."
   ]
  },
  {
   "cell_type": "code",
   "execution_count": 283,
   "metadata": {},
   "outputs": [
    {
     "name": "stdout",
     "output_type": "stream",
     "text": [
      "Training Accuracy of the Logistic Regression model: 0.644 (0.045)\n"
     ]
    }
   ],
   "source": [
    "# report performance\n",
    "print('Training Accuracy of the Logistic Regression model: %.3f (%.3f)' % (mean(n_scores), std(n_scores)))"
   ]
  },
  {
   "cell_type": "markdown",
   "metadata": {},
   "source": [
    "In the following the dataset is split into training and testing dataset. The training dataset is used to fit the Logistic Regression model, while the test dataset is used to evaluate performance from data not used in training. The split is performed using 80:20 ratio, with 20% data (i.e. 6000 records) kept aside for testing. A random state of 42 is used to make sure the model can be reproduced for tuning."
   ]
  },
  {
   "cell_type": "code",
   "execution_count": 252,
   "metadata": {},
   "outputs": [],
   "source": [
    "# Split the data into training and testing datasets\n",
    "X_train, X_test, y_train, y_test = train_test_split(X, y, test_size = 0.2, random_state = 42)"
   ]
  },
  {
   "cell_type": "markdown",
   "metadata": {},
   "source": [
    "The Logistic Regression model is then trained and fited with the training dataset together with the training labels."
   ]
  },
  {
   "cell_type": "code",
   "execution_count": 253,
   "metadata": {},
   "outputs": [
    {
     "data": {
      "text/plain": [
       "LogisticRegression(max_iter=500, random_state=42)"
      ]
     },
     "execution_count": 253,
     "metadata": {},
     "output_type": "execute_result"
    }
   ],
   "source": [
    "# Fitting the RF Model on the training dataset\n",
    "LRModel.fit(X_train, y_train)"
   ]
  },
  {
   "cell_type": "markdown",
   "metadata": {},
   "source": [
    "### 1.2. Confusion Matrix of the Logistic Regression Model"
   ]
  },
  {
   "cell_type": "markdown",
   "metadata": {},
   "source": [
    "The Logistic Regression model is then used to predict the test dataset, and the performance metrics are extracted. The confusion matrix is also displayed to show how the model behaved."
   ]
  },
  {
   "cell_type": "code",
   "execution_count": 254,
   "metadata": {},
   "outputs": [
    {
     "name": "stdout",
     "output_type": "stream",
     "text": [
      "              precision    recall  f1-score   support\n",
      "\n",
      "           0       0.64      0.71      0.67      2491\n",
      "           1       0.78      0.72      0.75      3509\n",
      "\n",
      "    accuracy                           0.72      6000\n",
      "   macro avg       0.71      0.71      0.71      6000\n",
      "weighted avg       0.72      0.72      0.72      6000\n",
      "\n"
     ]
    }
   ],
   "source": [
    "y_hat = LRModel.predict(X_test)\n",
    "print(metrics.classification_report(y_hat, y_test))"
   ]
  },
  {
   "cell_type": "code",
   "execution_count": 255,
   "metadata": {},
   "outputs": [
    {
     "data": {
      "image/png": "[encoded data removed]",
      "text/plain": [
       "<Figure size 432x288 with 1 Axes>"
      ]
     },
     "metadata": {},
     "output_type": "display_data"
    }
   ],
   "source": [
    "mat = confusion_matrix(y_test, y_hat)\n",
    "sns.heatmap(mat.T, square=True, annot=True, fmt='d', cbar=False)\n",
    "plt.xlabel('Actual label')\n",
    "plt.ylabel('Predicted label');"
   ]
  },
  {
   "cell_type": "markdown",
   "metadata": {},
   "source": [
    "### 1.3. Mean Absolute Error of the Logistic Regression Model"
   ]
  },
  {
   "cell_type": "markdown",
   "metadata": {},
   "source": [
    "The below shows that the Mean Absolute Error is 0.28 degrees. This is very minimal and shows a good performance."
   ]
  },
  {
   "cell_type": "code",
   "execution_count": 256,
   "metadata": {},
   "outputs": [
    {
     "name": "stdout",
     "output_type": "stream",
     "text": [
      "Mean Absolute Error of the Logistic Regression model: 0.28 degrees.\n"
     ]
    }
   ],
   "source": [
    "# Use the forest's predict method on the test data\n",
    "predictions = LRModel.predict(X_test)\n",
    "# Calculate the absolute errors\n",
    "errors = abs(predictions - y_test)\n",
    "# Print out the mean absolute error (MAE)\n",
    "print('Mean Absolute Error of the Logistic Regression model:', round(np.mean(errors), 2), 'degrees.')"
   ]
  },
  {
   "cell_type": "markdown",
   "metadata": {},
   "source": [
    "### 1.4. AUC-ROC curve of the Logistic Regression Model"
   ]
  },
  {
   "cell_type": "markdown",
   "metadata": {},
   "source": [
    "In the below section, the AUC-ROC curve is generated. First, the Logistic Regression model is used to predict probabilities. Different thresholds are applied by the roc_curve function on these probabilities, then the ROC curve is generated, and AUC highlighted in the display."
   ]
  },
  {
   "cell_type": "code",
   "execution_count": 257,
   "metadata": {},
   "outputs": [],
   "source": [
    "# predict probabilities\n",
    "pred_prob = LRModel.predict_proba(X_test)"
   ]
  },
  {
   "cell_type": "code",
   "execution_count": 258,
   "metadata": {},
   "outputs": [],
   "source": [
    "# roc curve for models\n",
    "fpr, tpr, thresholds = roc_curve(y_test, pred_prob[:,1], pos_label=1)"
   ]
  },
  {
   "cell_type": "markdown",
   "metadata": {},
   "source": [
    "The AUC score of the Logistic Regression model can be noticed at 0.778 and it is show bellow."
   ]
  },
  {
   "cell_type": "code",
   "execution_count": 259,
   "metadata": {},
   "outputs": [
    {
     "name": "stdout",
     "output_type": "stream",
     "text": [
      "AUC Score for the model trained on the complete dataset: 0.7808111571565761\n"
     ]
    }
   ],
   "source": [
    "# auc scores\n",
    "auc_score = roc_auc_score(y_test, pred_prob[:,1])\n",
    "print('AUC Score for the model trained on the complete dataset:',auc_score)"
   ]
  },
  {
   "cell_type": "code",
   "execution_count": 260,
   "metadata": {},
   "outputs": [
    {
     "data": {
      "image/png": "[encoded data removed]",
      "text/plain": [
       "<Figure size 576x396 with 1 Axes>"
      ]
     },
     "metadata": {},
     "output_type": "display_data"
    }
   ],
   "source": [
    "plt.style.use('seaborn')\n",
    "\n",
    "# plot roc curves\n",
    "plt.plot(fpr, tpr, linestyle='--',color='orange', label='Logistic Regression: Complete Dataset')\n",
    "\n",
    "# title\n",
    "plt.title('Logistic Regression AUC-ROC Curve - Complete Dataset')\n",
    "\n",
    "# x label\n",
    "plt.xlabel('False Positive Rate (FPR)')\n",
    "\n",
    "# y label\n",
    "plt.ylabel('True Positive Rate (TPR)')\n",
    "\n",
    "plt.legend(loc='best')\n",
    "plt.savefig('ROC',dpi=300)\n",
    "plt.show();"
   ]
  },
  {
   "cell_type": "markdown",
   "metadata": {},
   "source": [
    "## 2. Training the LR model on Subgroup 1 Dataset"
   ]
  },
  {
   "cell_type": "markdown",
   "metadata": {},
   "source": [
    "Participants in the first subgroup of 10,000 subscribers were offered a package that provides 3 times more minutes compared to the average monthly minutes used by the participant to call a specific called party number. Out of this subgroup 6,107 participants equivalent to 61% of the participants in the subgroup accepted the package that cost 25% higher than the average they spent on calling the same called party number monthly in the previous 6 months considered in the research. The total spending of all participants in this subgroup is 2,212,635 RWF which means an average of 362.31 RWF per participant.\n",
    "\n",
    "In this section, the model is trained and evaluated using only Subgroup 1 dataset."
   ]
  },
  {
   "cell_type": "code",
   "execution_count": 261,
   "metadata": {},
   "outputs": [],
   "source": [
    "# Extract data related to subscribers in subgroup 1\n",
    "data_grp_1 = data[data['SUBGROUP'] == 1]\n",
    "\n",
    "X_grp_1 = data_grp_1.drop('LABEL', axis = 1)\\\n",
    "    .drop('ROW_NUMBER', axis = 1)\\\n",
    "    .drop('SUBGROUP', axis = 1)\\\n",
    "    .drop('AVG_SPENDING', axis = 1)\\\n",
    "    .drop('TARGET_SPENDING', axis = 1)\n",
    "\n",
    "y_grp_1 = np.array(data_grp_1['LABEL'])\n",
    "X_grp_1 = np.array(X_grp_1)"
   ]
  },
  {
   "cell_type": "code",
   "execution_count": 262,
   "metadata": {},
   "outputs": [
    {
     "data": {
      "text/html": [
       "<div>\n",
       "<style scoped>\n",
       "    .dataframe tbody tr th:only-of-type {\n",
       "        vertical-align: middle;\n",
       "    }\n",
       "\n",
       "    .dataframe tbody tr th {\n",
       "        vertical-align: top;\n",
       "    }\n",
       "\n",
       "    .dataframe thead th {\n",
       "        text-align: right;\n",
       "    }\n",
       "</style>\n",
       "<table border=\"1\" class=\"dataframe\">\n",
       "  <thead>\n",
       "    <tr style=\"text-align: right;\">\n",
       "      <th></th>\n",
       "      <th>ROW_NUMBER</th>\n",
       "      <th>SUBGROUP</th>\n",
       "      <th>AVG_SPENDING</th>\n",
       "      <th>TARGET_SPENDING</th>\n",
       "      <th>MONTH_1</th>\n",
       "      <th>MONTH_2</th>\n",
       "      <th>MONTH_3</th>\n",
       "      <th>MONTH_4</th>\n",
       "      <th>MONTH_5</th>\n",
       "      <th>MONTH_6</th>\n",
       "      <th>LABEL</th>\n",
       "    </tr>\n",
       "  </thead>\n",
       "  <tbody>\n",
       "    <tr>\n",
       "      <th>count</th>\n",
       "      <td>10000.00000</td>\n",
       "      <td>10000.0</td>\n",
       "      <td>10000.000000</td>\n",
       "      <td>10000.000000</td>\n",
       "      <td>10000.000000</td>\n",
       "      <td>10000.00000</td>\n",
       "      <td>10000.000000</td>\n",
       "      <td>10000.000000</td>\n",
       "      <td>10000.000000</td>\n",
       "      <td>10000.000000</td>\n",
       "      <td>10000.000000</td>\n",
       "    </tr>\n",
       "    <tr>\n",
       "      <th>mean</th>\n",
       "      <td>14962.91810</td>\n",
       "      <td>1.0</td>\n",
       "      <td>240.865164</td>\n",
       "      <td>301.087300</td>\n",
       "      <td>126.741000</td>\n",
       "      <td>95.06670</td>\n",
       "      <td>72.057500</td>\n",
       "      <td>53.413600</td>\n",
       "      <td>39.856600</td>\n",
       "      <td>122.888500</td>\n",
       "      <td>0.610700</td>\n",
       "    </tr>\n",
       "    <tr>\n",
       "      <th>std</th>\n",
       "      <td>8679.78578</td>\n",
       "      <td>0.0</td>\n",
       "      <td>124.139450</td>\n",
       "      <td>155.177623</td>\n",
       "      <td>86.394626</td>\n",
       "      <td>68.55081</td>\n",
       "      <td>54.318817</td>\n",
       "      <td>42.295485</td>\n",
       "      <td>32.691869</td>\n",
       "      <td>67.777306</td>\n",
       "      <td>0.487616</td>\n",
       "    </tr>\n",
       "    <tr>\n",
       "      <th>min</th>\n",
       "      <td>2.00000</td>\n",
       "      <td>1.0</td>\n",
       "      <td>3.280000</td>\n",
       "      <td>4.000000</td>\n",
       "      <td>0.000000</td>\n",
       "      <td>0.00000</td>\n",
       "      <td>0.000000</td>\n",
       "      <td>0.000000</td>\n",
       "      <td>0.000000</td>\n",
       "      <td>8.000000</td>\n",
       "      <td>0.000000</td>\n",
       "    </tr>\n",
       "    <tr>\n",
       "      <th>25%</th>\n",
       "      <td>7483.75000</td>\n",
       "      <td>1.0</td>\n",
       "      <td>137.210000</td>\n",
       "      <td>171.750000</td>\n",
       "      <td>55.000000</td>\n",
       "      <td>40.00000</td>\n",
       "      <td>29.750000</td>\n",
       "      <td>21.000000</td>\n",
       "      <td>15.000000</td>\n",
       "      <td>75.000000</td>\n",
       "      <td>0.000000</td>\n",
       "    </tr>\n",
       "    <tr>\n",
       "      <th>50%</th>\n",
       "      <td>14974.00000</td>\n",
       "      <td>1.0</td>\n",
       "      <td>236.570000</td>\n",
       "      <td>296.000000</td>\n",
       "      <td>115.000000</td>\n",
       "      <td>84.00000</td>\n",
       "      <td>61.000000</td>\n",
       "      <td>45.000000</td>\n",
       "      <td>32.000000</td>\n",
       "      <td>108.000000</td>\n",
       "      <td>1.000000</td>\n",
       "    </tr>\n",
       "    <tr>\n",
       "      <th>75%</th>\n",
       "      <td>22541.25000</td>\n",
       "      <td>1.0</td>\n",
       "      <td>343.702500</td>\n",
       "      <td>430.000000</td>\n",
       "      <td>187.000000</td>\n",
       "      <td>137.00000</td>\n",
       "      <td>103.000000</td>\n",
       "      <td>75.250000</td>\n",
       "      <td>56.000000</td>\n",
       "      <td>155.000000</td>\n",
       "      <td>1.000000</td>\n",
       "    </tr>\n",
       "    <tr>\n",
       "      <th>max</th>\n",
       "      <td>30000.00000</td>\n",
       "      <td>1.0</td>\n",
       "      <td>585.500000</td>\n",
       "      <td>732.000000</td>\n",
       "      <td>436.000000</td>\n",
       "      <td>420.00000</td>\n",
       "      <td>354.000000</td>\n",
       "      <td>304.000000</td>\n",
       "      <td>302.000000</td>\n",
       "      <td>662.000000</td>\n",
       "      <td>1.000000</td>\n",
       "    </tr>\n",
       "  </tbody>\n",
       "</table>\n",
       "</div>"
      ],
      "text/plain": [
       "        ROW_NUMBER  SUBGROUP  AVG_SPENDING  TARGET_SPENDING       MONTH_1  \\\n",
       "count  10000.00000   10000.0  10000.000000     10000.000000  10000.000000   \n",
       "mean   14962.91810       1.0    240.865164       301.087300    126.741000   \n",
       "std     8679.78578       0.0    124.139450       155.177623     86.394626   \n",
       "min        2.00000       1.0      3.280000         4.000000      0.000000   \n",
       "25%     7483.75000       1.0    137.210000       171.750000     55.000000   \n",
       "50%    14974.00000       1.0    236.570000       296.000000    115.000000   \n",
       "75%    22541.25000       1.0    343.702500       430.000000    187.000000   \n",
       "max    30000.00000       1.0    585.500000       732.000000    436.000000   \n",
       "\n",
       "           MONTH_2       MONTH_3       MONTH_4       MONTH_5       MONTH_6  \\\n",
       "count  10000.00000  10000.000000  10000.000000  10000.000000  10000.000000   \n",
       "mean      95.06670     72.057500     53.413600     39.856600    122.888500   \n",
       "std       68.55081     54.318817     42.295485     32.691869     67.777306   \n",
       "min        0.00000      0.000000      0.000000      0.000000      8.000000   \n",
       "25%       40.00000     29.750000     21.000000     15.000000     75.000000   \n",
       "50%       84.00000     61.000000     45.000000     32.000000    108.000000   \n",
       "75%      137.00000    103.000000     75.250000     56.000000    155.000000   \n",
       "max      420.00000    354.000000    304.000000    302.000000    662.000000   \n",
       "\n",
       "              LABEL  \n",
       "count  10000.000000  \n",
       "mean       0.610700  \n",
       "std        0.487616  \n",
       "min        0.000000  \n",
       "25%        0.000000  \n",
       "50%        1.000000  \n",
       "75%        1.000000  \n",
       "max        1.000000  "
      ]
     },
     "execution_count": 262,
     "metadata": {},
     "output_type": "execute_result"
    }
   ],
   "source": [
    "# Basic statistics of the dataset\n",
    "data_grp_1.describe()"
   ]
  },
  {
   "cell_type": "code",
   "execution_count": 263,
   "metadata": {},
   "outputs": [
    {
     "name": "stdout",
     "output_type": "stream",
     "text": [
      "Accuracy for Subgroup 1: 0.684 (0.012)\n"
     ]
    }
   ],
   "source": [
    "# Define the model for subgroup 1\n",
    "LRModel1 = LogisticRegression(random_state=42, max_iter=500)\n",
    "\n",
    "#Evaluate the model with 10-folds Cross Validation\n",
    "cross_valid_grp_1 = RepeatedStratifiedKFold(n_splits=10, n_repeats=3, random_state=1)\n",
    "n_scores_grp_1 = cross_val_score(LRModel1, X_grp_1, y_grp_1, scoring='accuracy', cv=cross_valid_grp_1, n_jobs=-1, error_score='raise')\n",
    "\n",
    "# report performance on subgroup 1\n",
    "print('Accuracy for Subgroup 1: %.3f (%.3f)' % (mean(n_scores_grp_1), std(n_scores_grp_1)))"
   ]
  },
  {
   "cell_type": "code",
   "execution_count": 264,
   "metadata": {},
   "outputs": [
    {
     "name": "stdout",
     "output_type": "stream",
     "text": [
      "              precision    recall  f1-score   support\n",
      "\n",
      "           0       0.53      0.63      0.57       650\n",
      "           1       0.80      0.73      0.76      1350\n",
      "\n",
      "    accuracy                           0.69      2000\n",
      "   macro avg       0.66      0.68      0.67      2000\n",
      "weighted avg       0.71      0.69      0.70      2000\n",
      "\n"
     ]
    }
   ],
   "source": [
    "# Split the data into training and testing datasets, using the 80:20 ratio to keep 20% for testing\n",
    "X_train_grp_1, X_test_grp_1, y_train_grp_1, y_test_grp_1 = train_test_split(X_grp_1, y_grp_1, test_size = 0.2, random_state = 42)\n",
    "\n",
    "# Fitting the RF Model on the training dataset\n",
    "LRModel1.fit(X_train_grp_1, y_train_grp_1)\n",
    "\n",
    "#Generate the classification report for subgroup 1\n",
    "y_hat_grp_1 = LRModel1.predict(X_test_grp_1)\n",
    "print(metrics.classification_report(y_hat_grp_1, y_test_grp_1))"
   ]
  },
  {
   "cell_type": "code",
   "execution_count": 265,
   "metadata": {},
   "outputs": [
    {
     "data": {
      "image/png": "[encoded data removed]",
      "text/plain": [
       "<Figure size 576x396 with 1 Axes>"
      ]
     },
     "metadata": {},
     "output_type": "display_data"
    }
   ],
   "source": [
    "mat_grp_1 = confusion_matrix(y_test_grp_1, y_hat_grp_1)\n",
    "sns.heatmap(mat_grp_1.T, square=True, annot=True, fmt='d', cbar=False)\n",
    "plt.xlabel('Actual label')\n",
    "plt.ylabel('Predicted label');"
   ]
  },
  {
   "cell_type": "code",
   "execution_count": 266,
   "metadata": {},
   "outputs": [
    {
     "name": "stdout",
     "output_type": "stream",
     "text": [
      "Mean Absolute Error for Subgroup 1: 0.31 degrees.\n"
     ]
    }
   ],
   "source": [
    "# Use the forest's predict method on the test data\n",
    "predictions_grp_1 = LRModel1.predict(X_test_grp_1)\n",
    "# Calculate the absolute errors\n",
    "errors_grp_1 = abs(predictions_grp_1 - y_test_grp_1)\n",
    "# Print out the mean absolute error (MAE)\n",
    "print('Mean Absolute Error for Subgroup 1:', round(np.mean(errors_grp_1), 2), 'degrees.')"
   ]
  },
  {
   "cell_type": "code",
   "execution_count": 267,
   "metadata": {},
   "outputs": [
    {
     "name": "stdout",
     "output_type": "stream",
     "text": [
      "AUC Score for the model trained on Subgroup 1: 0.7746474426768785\n"
     ]
    }
   ],
   "source": [
    "# Generate AUC-ROC curve\n",
    "# predict probabilities\n",
    "pred_prob_grp_1 = LRModel1.predict_proba(X_test_grp_1)\n",
    "\n",
    "# roc curve for models\n",
    "fpr_grp_1, tpr_grp_1, thresholds_grp_1 = roc_curve(y_test_grp_1, pred_prob_grp_1[:,1], pos_label=1)\n",
    "\n",
    "# auc scores\n",
    "auc_score_grp_1 = roc_auc_score(y_test_grp_1, pred_prob_grp_1[:,1])\n",
    "print('AUC Score for the model trained on Subgroup 1:',auc_score_grp_1)"
   ]
  },
  {
   "cell_type": "code",
   "execution_count": 268,
   "metadata": {},
   "outputs": [
    {
     "data": {
      "image/png": "[encoded data removed]",
      "text/plain": [
       "<Figure size 576x396 with 1 Axes>"
      ]
     },
     "metadata": {},
     "output_type": "display_data"
    }
   ],
   "source": [
    "# Plotting the AUC-ROC Curve\n",
    "plt.style.use('seaborn')\n",
    "\n",
    "# plot roc curves\n",
    "plt.plot(fpr_grp_1, tpr_grp_1, linestyle='--',color='orange', label='Logistic Regression: Subgroup 1')\n",
    "\n",
    "# title\n",
    "plt.title('Logistic Regression AUC-ROC Curve: Subgroup 1')\n",
    "\n",
    "# x label\n",
    "plt.xlabel('False Positive Rate (FPR)')\n",
    "\n",
    "# y label\n",
    "plt.ylabel('True Positive Rate (TPR)')\n",
    "\n",
    "plt.legend(loc='best')\n",
    "plt.savefig('ROC',dpi=300)\n",
    "plt.show();"
   ]
  },
  {
   "cell_type": "markdown",
   "metadata": {},
   "source": [
    "## 3. Training the LR model on Subgroup 2 Dataset"
   ]
  },
  {
   "cell_type": "markdown",
   "metadata": {},
   "source": [
    "Participants in the second subgroup of 10,000 subscribers were offered a package that provides 6 times more minutes compared to the average monthly minutes used by the participant to call a specific called party number. Out of this subgroup 5,528 participants equivalent to 55% of the participants in the subgroup accepted the package that cost 50% higher than the average they spent on calling the same called party number monthly in the previous 6 months considered in the research. The total spending of all participants in this subgroup is 2,403,228 RWF which means an average of 434.77 RWF per participant.\n",
    "\n",
    "In this section, the model is trained and evaluated using only Subgroup 2 dataset."
   ]
  },
  {
   "cell_type": "code",
   "execution_count": 269,
   "metadata": {},
   "outputs": [],
   "source": [
    "# Extract data related to subscribers in subgroup 2\n",
    "data_grp_2 = data[data['SUBGROUP'] == 2]\n",
    "\n",
    "X_grp_2 = data_grp_2.drop('LABEL', axis = 1)\\\n",
    "    .drop('SUBGROUP', axis = 1)\\\n",
    "    .drop('AVG_SPENDING', axis = 1)\\\n",
    "    .drop('TARGET_SPENDING', axis = 1)\n",
    "\n",
    "y_grp_2 = np.array(data_grp_2['LABEL'])\n",
    "X_grp_2 = np.array(X_grp_2)"
   ]
  },
  {
   "cell_type": "code",
   "execution_count": 270,
   "metadata": {},
   "outputs": [
    {
     "name": "stdout",
     "output_type": "stream",
     "text": [
      "Accuracy for Subgroup 2: 0.650 (0.043)\n"
     ]
    }
   ],
   "source": [
    "# Define the model for subgroup 2\n",
    "LRModel2 = LogisticRegression(random_state=42, max_iter=500)\n",
    "\n",
    "#Evaluate the model with 10-folds Cross Validation\n",
    "cross_valid_grp_2 = RepeatedStratifiedKFold(n_splits=10, n_repeats=3, random_state=1)\n",
    "n_scores_grp_2 = cross_val_score(LRModel2, X_grp_2, y_grp_2, scoring='accuracy', cv=cross_valid_grp_2, n_jobs=-1, error_score='raise')\n",
    "\n",
    "# report performance on subgroup 2\n",
    "print('Accuracy for Subgroup 2: %.3f (%.3f)' % (mean(n_scores_grp_2), std(n_scores_grp_2)))"
   ]
  },
  {
   "cell_type": "code",
   "execution_count": 271,
   "metadata": {},
   "outputs": [
    {
     "name": "stdout",
     "output_type": "stream",
     "text": [
      "              precision    recall  f1-score   support\n",
      "\n",
      "           0       0.38      0.62      0.47       541\n",
      "           1       0.81      0.62      0.70      1459\n",
      "\n",
      "    accuracy                           0.62      2000\n",
      "   macro avg       0.59      0.62      0.58      2000\n",
      "weighted avg       0.69      0.62      0.64      2000\n",
      "\n"
     ]
    }
   ],
   "source": [
    "# Split the data into training and testing datasets, using the 80:20 ratio to keep 20% for testing\n",
    "X_train_grp_2, X_test_grp_2, y_train_grp_2, y_test_grp_2 = train_test_split(X_grp_2, y_grp_2, test_size = 0.2, random_state = 42)\n",
    "\n",
    "# Fitting the RF Model on the training dataset\n",
    "LRModel2.fit(X_train_grp_2, y_train_grp_2)\n",
    "\n",
    "#Generate the classification report for subgroup 2\n",
    "y_hat_grp_2 = LRModel2.predict(X_test_grp_2)\n",
    "print(metrics.classification_report(y_hat_grp_2, y_test_grp_2))"
   ]
  },
  {
   "cell_type": "code",
   "execution_count": 272,
   "metadata": {},
   "outputs": [
    {
     "data": {
      "image/png": "[encoded data removed]",
      "text/plain": [
       "<Figure size 576x396 with 1 Axes>"
      ]
     },
     "metadata": {},
     "output_type": "display_data"
    }
   ],
   "source": [
    "mat_grp_2 = confusion_matrix(y_test_grp_2, y_hat_grp_2)\n",
    "sns.heatmap(mat_grp_2.T, square=True, annot=True, fmt='d', cbar=False)\n",
    "plt.xlabel('Actual label')\n",
    "plt.ylabel('Predicted label');"
   ]
  },
  {
   "cell_type": "code",
   "execution_count": 273,
   "metadata": {},
   "outputs": [
    {
     "name": "stdout",
     "output_type": "stream",
     "text": [
      "Mean Absolute Error for Subgroup 2: 0.38 degrees.\n"
     ]
    }
   ],
   "source": [
    "# Use the forest's predict method on the test data\n",
    "predictions_grp_2 = LRModel2.predict(X_test_grp_2)\n",
    "# Calculate the absolute errors\n",
    "errors_grp_2 = abs(predictions_grp_2 - y_test_grp_2)\n",
    "# Print out the mean absolute error (MAE)\n",
    "print('Mean Absolute Error for Subgroup 2:', round(np.mean(errors_grp_2), 2), 'degrees.')"
   ]
  },
  {
   "cell_type": "code",
   "execution_count": 274,
   "metadata": {},
   "outputs": [
    {
     "name": "stdout",
     "output_type": "stream",
     "text": [
      "AUC Score for the model trained on Subgroup 2: 0.67831055774876\n"
     ]
    }
   ],
   "source": [
    "# Generate AUC-ROC curve\n",
    "# predict probabilities\n",
    "pred_prob_grp_2 = LRModel2.predict_proba(X_test_grp_2)\n",
    "\n",
    "# roc curve for models\n",
    "fpr_grp_2, tpr_grp_2, thresholds_grp_2 = roc_curve(y_test_grp_2, pred_prob_grp_2[:,1], pos_label=1)\n",
    "\n",
    "# auc scores\n",
    "auc_score_grp_2 = roc_auc_score(y_test_grp_2, pred_prob_grp_2[:,1])\n",
    "print('AUC Score for the model trained on Subgroup 2:',auc_score_grp_2)"
   ]
  },
  {
   "cell_type": "code",
   "execution_count": 275,
   "metadata": {},
   "outputs": [
    {
     "data": {
      "image/png": "[encoded data removed]",
      "text/plain": [
       "<Figure size 576x396 with 1 Axes>"
      ]
     },
     "metadata": {},
     "output_type": "display_data"
    }
   ],
   "source": [
    "# Plotting the AUC-ROC Curve\n",
    "plt.style.use('seaborn')\n",
    "\n",
    "# plot roc curves\n",
    "plt.plot(fpr_grp_2, tpr_grp_2, linestyle='--',color='orange', label='Logistic Regression: Subgroup 2')\n",
    "\n",
    "# title\n",
    "plt.title('Logistic Regression AUC-ROC Curve: Subgroup 2')\n",
    "\n",
    "# x label\n",
    "plt.xlabel('False Positive Rate (FPR)')\n",
    "\n",
    "# y label\n",
    "plt.ylabel('True Positive Rate (TPR)')\n",
    "\n",
    "plt.legend(loc='best')\n",
    "plt.savefig('ROC',dpi=300)\n",
    "plt.show();"
   ]
  },
  {
   "cell_type": "markdown",
   "metadata": {},
   "source": [
    "## 4. Training the LR model on Subgroup 3 Dataset"
   ]
  },
  {
   "cell_type": "markdown",
   "metadata": {},
   "source": [
    "Participants in the first subgroup of 10,000 subscribers were offered a package that provides 10 times more minutes compared to the average monthly minutes used by the participant to call a specific called party number. Out of this subgroup 4,819 participants equivalent to 48% of the participants in the subgroup accepted the package that cost 100% higher than the average they spent on calling the same called party number monthly in the previous 6 months considered in the research. The total spending of all participants in this subgroup is 2,793,565 RWF which means an average of 579.7 RWF per participant.\n",
    "\n",
    "In this section, the model is trained and evaluated using only Subgroup 3 dataset."
   ]
  },
  {
   "cell_type": "code",
   "execution_count": 276,
   "metadata": {},
   "outputs": [],
   "source": [
    "# Extract data related to subscribers in subgroup 3\n",
    "data_grp_3 = data[data['SUBGROUP'] == 3]\n",
    "\n",
    "X_grp_3 = data_grp_3.drop('LABEL', axis = 1)\\\n",
    "    .drop('SUBGROUP', axis = 1)\\\n",
    "    .drop('AVG_SPENDING', axis = 1)\\\n",
    "    .drop('TARGET_SPENDING', axis = 1)\n",
    "\n",
    "y_grp_3 = np.array(data_grp_3['LABEL'])\n",
    "X_grp_3 = np.array(X_grp_3)"
   ]
  },
  {
   "cell_type": "code",
   "execution_count": 277,
   "metadata": {},
   "outputs": [
    {
     "name": "stdout",
     "output_type": "stream",
     "text": [
      "Accuracy for Subgroup 3: 0.682 (0.077)\n"
     ]
    }
   ],
   "source": [
    "# Define the model for subgroup 3\n",
    "LRModel3 = LogisticRegression(random_state=42, max_iter=500)\n",
    "\n",
    "#Evaluate the model with 10-folds Cross Validation\n",
    "cross_valid_grp_3 = RepeatedStratifiedKFold(n_splits=10, n_repeats=3, random_state=1)\n",
    "n_scores_grp_3 = cross_val_score(LRModel3, X_grp_3, y_grp_3, scoring='accuracy', cv=cross_valid_grp_3, n_jobs=-1, error_score='raise')\n",
    "\n",
    "# report performance on subgroup 3\n",
    "print('Accuracy for Subgroup 3: %.3f (%.3f)' % (mean(n_scores_grp_3), std(n_scores_grp_3)))"
   ]
  },
  {
   "cell_type": "code",
   "execution_count": 278,
   "metadata": {},
   "outputs": [
    {
     "name": "stdout",
     "output_type": "stream",
     "text": [
      "              precision    recall  f1-score   support\n",
      "\n",
      "           0       0.83      0.77      0.79      1123\n",
      "           1       0.73      0.79      0.76       877\n",
      "\n",
      "    accuracy                           0.78      2000\n",
      "   macro avg       0.78      0.78      0.78      2000\n",
      "weighted avg       0.78      0.78      0.78      2000\n",
      "\n"
     ]
    }
   ],
   "source": [
    "# Split the data into training and testing datasets, using the 80:20 ratio to keep 20% for testing\n",
    "X_train_grp_3, X_test_grp_3, y_train_grp_3, y_test_grp_3 = train_test_split(X_grp_3, y_grp_3, test_size = 0.2, random_state = 42)\n",
    "\n",
    "# Fitting the RF Model on the training dataset\n",
    "LRModel3.fit(X_train_grp_3, y_train_grp_3)\n",
    "\n",
    "#Generate the classification report for subgroup 3\n",
    "y_hat_grp_3 = LRModel3.predict(X_test_grp_3)\n",
    "print(metrics.classification_report(y_hat_grp_3, y_test_grp_3))"
   ]
  },
  {
   "cell_type": "code",
   "execution_count": 279,
   "metadata": {},
   "outputs": [
    {
     "data": {
      "image/png": "[encoded data removed]",
      "text/plain": [
       "<Figure size 576x396 with 1 Axes>"
      ]
     },
     "metadata": {},
     "output_type": "display_data"
    }
   ],
   "source": [
    "mat_grp_3 = confusion_matrix(y_test_grp_3, y_hat_grp_3)\n",
    "sns.heatmap(mat_grp_3.T, square=True, annot=True, fmt='d', cbar=False)\n",
    "plt.xlabel('Actual label')\n",
    "plt.ylabel('Predicted label');"
   ]
  },
  {
   "cell_type": "code",
   "execution_count": 280,
   "metadata": {},
   "outputs": [
    {
     "name": "stdout",
     "output_type": "stream",
     "text": [
      "Mean Absolute Error for subgroup 3: 0.22 degrees.\n"
     ]
    }
   ],
   "source": [
    "# Use the forest's predict method on the test data\n",
    "predictions_grp_3 = LRModel3.predict(X_test_grp_3)\n",
    "# Calculate the absolute errors\n",
    "errors_grp_3 = abs(predictions_grp_3 - y_test_grp_3)\n",
    "# Print out the mean absolute error (MAE)\n",
    "print('Mean Absolute Error for subgroup 3:', round(np.mean(errors_grp_3), 2), 'degrees.')"
   ]
  },
  {
   "cell_type": "code",
   "execution_count": 281,
   "metadata": {},
   "outputs": [
    {
     "name": "stdout",
     "output_type": "stream",
     "text": [
      "AUC Score for the model trained on Subgroup 3: 0.7882244278907994\n"
     ]
    }
   ],
   "source": [
    "# Generate AUC-ROC curve\n",
    "# predict probabilities\n",
    "pred_prob_grp_3 = LRModel3.predict_proba(X_test_grp_3)\n",
    "\n",
    "# roc curve for models\n",
    "fpr_grp_3, tpr_grp_3, thresholds_grp_3 = roc_curve(y_test_grp_3, pred_prob_grp_3[:,1], pos_label=1)\n",
    "\n",
    "# auc scores\n",
    "auc_score_grp_3 = roc_auc_score(y_test_grp_3, pred_prob_grp_3[:,1])\n",
    "print('AUC Score for the model trained on Subgroup 3:',auc_score_grp_3)"
   ]
  },
  {
   "cell_type": "code",
   "execution_count": 282,
   "metadata": {},
   "outputs": [
    {
     "data": {
      "image/png": "[encoded data removed]",
      "text/plain": [
       "<Figure size 576x396 with 1 Axes>"
      ]
     },
     "metadata": {},
     "output_type": "display_data"
    }
   ],
   "source": [
    "# Plotting the AUC-ROC Curve\n",
    "plt.style.use('seaborn')\n",
    "\n",
    "# plot roc curves\n",
    "plt.plot(fpr_grp_3, tpr_grp_3, linestyle='--',color='orange', label='Logistic Regression: subgroup 3')\n",
    "\n",
    "# title\n",
    "plt.title('AUC-ROC Curve: subgroup 3')\n",
    "\n",
    "# x label\n",
    "plt.xlabel('False Positive Rate (FPR)')\n",
    "\n",
    "# y label\n",
    "plt.ylabel('True Positive Rate (TPR)')\n",
    "\n",
    "plt.legend(loc='best')\n",
    "plt.savefig('ROC',dpi=300)\n",
    "plt.show();"
   ]
  },
  {
   "cell_type": "markdown",
   "metadata": {},
   "source": [
    "## 5. Conclusion"
   ]
  },
  {
   "cell_type": "markdown",
   "metadata": {},
   "source": [
    "In general the Logistic Regression model is exhibiting good prediction performance with an AUC value of 0.778. This means that there is a 77.8% chance that the model will be able to distinguish between subscribers who will purchase the discounted package and those that will not."
   ]
  }
 ],
 "metadata": {
  "kernelspec": {
   "display_name": "Python 3",
   "language": "python",
   "name": "python3"
  },
  "language_info": {
   "codemirror_mode": {
    "name": "ipython",
    "version": 3
   },
   "file_extension": ".py",
   "mimetype": "text/x-python",
   "name": "python",
   "nbconvert_exporter": "python",
   "pygments_lexer": "ipython3",
   "version": "3.8.5"
  }
 },
 "nbformat": 4,
 "nbformat_minor": 4
}
