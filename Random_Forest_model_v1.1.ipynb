{
 "cells": [
  {
   "cell_type": "markdown",
   "metadata": {},
   "source": [
    "## Random Forest Model Design"
   ]
  },
  {
   "cell_type": "markdown",
   "metadata": {},
   "source": [
    "This is the Python source code used to build the Random Forest model. It is done using Jupyter Notebook.\n",
    "\n",
    "First, I import all the required modules and libraries."
   ]
  },
  {
   "cell_type": "code",
   "execution_count": 241,
   "metadata": {},
   "outputs": [],
   "source": [
    "%matplotlib inline\n",
    "import pandas as pd\n",
    "import sys\n",
    "import numpy as np\n",
    "from numpy import mean\n",
    "from numpy import std\n",
    "import matplotlib.pyplot as plt\n",
    "from matplotlib import pyplot\n",
    "import seaborn as sns; sns.set()\n",
    "from sklearn.linear_model import LogisticRegression\n",
    "from sklearn.ensemble import RandomForestClassifier\n",
    "from sklearn.model_selection import train_test_split\n",
    "from sklearn.model_selection import cross_val_score\n",
    "from sklearn.model_selection import RepeatedStratifiedKFold\n",
    "from sklearn import metrics\n",
    "from sklearn.metrics import roc_curve\n",
    "from sklearn.metrics import roc_auc_score\n",
    "from sklearn.metrics import confusion_matrix"
   ]
  },
  {
   "cell_type": "markdown",
   "metadata": {},
   "source": [
    "In the next step, data is read from a CSV file, and a sample of 10 first rows are displayed. And the shape of the data is shown. Finally, basic statistics from the dataset are displayed."
   ]
  },
  {
   "cell_type": "code",
   "execution_count": 242,
   "metadata": {},
   "outputs": [],
   "source": [
    "# Reading the data from CSV file\n",
    "data = pd.read_csv(\"Random_Forest_data_clean.csv\", header=0, sep=',')"
   ]
  },
  {
   "cell_type": "code",
   "execution_count": 243,
   "metadata": {},
   "outputs": [
    {
     "data": {
      "text/html": [
       "<div>\n",
       "<style scoped>\n",
       "    .dataframe tbody tr th:only-of-type {\n",
       "        vertical-align: middle;\n",
       "    }\n",
       "\n",
       "    .dataframe tbody tr th {\n",
       "        vertical-align: top;\n",
       "    }\n",
       "\n",
       "    .dataframe thead th {\n",
       "        text-align: right;\n",
       "    }\n",
       "</style>\n",
       "<table border=\"1\" class=\"dataframe\">\n",
       "  <thead>\n",
       "    <tr style=\"text-align: right;\">\n",
       "      <th></th>\n",
       "      <th>ROW_NUMBER</th>\n",
       "      <th>SUBGROUP</th>\n",
       "      <th>AVG_SPENDING</th>\n",
       "      <th>TARGET_SPENDING</th>\n",
       "      <th>AVG_CALL_COUNT</th>\n",
       "      <th>AVG_CALL_DUR</th>\n",
       "      <th>AVG_ACCT_BAL_BEFORE_CALL</th>\n",
       "      <th>AVG_RECHARGE_AMT</th>\n",
       "      <th>AVG_ACCT_BAL_BEFORE_RECHARGE</th>\n",
       "      <th>LABEL</th>\n",
       "    </tr>\n",
       "  </thead>\n",
       "  <tbody>\n",
       "    <tr>\n",
       "      <th>0</th>\n",
       "      <td>1</td>\n",
       "      <td>2</td>\n",
       "      <td>129.74</td>\n",
       "      <td>195</td>\n",
       "      <td>8.68</td>\n",
       "      <td>23.22</td>\n",
       "      <td>219.24</td>\n",
       "      <td>208.94</td>\n",
       "      <td>60.40</td>\n",
       "      <td>0</td>\n",
       "    </tr>\n",
       "    <tr>\n",
       "      <th>1</th>\n",
       "      <td>2</td>\n",
       "      <td>1</td>\n",
       "      <td>22.51</td>\n",
       "      <td>28</td>\n",
       "      <td>10.83</td>\n",
       "      <td>25.91</td>\n",
       "      <td>258.34</td>\n",
       "      <td>2348.37</td>\n",
       "      <td>37.77</td>\n",
       "      <td>1</td>\n",
       "    </tr>\n",
       "    <tr>\n",
       "      <th>2</th>\n",
       "      <td>3</td>\n",
       "      <td>2</td>\n",
       "      <td>359.96</td>\n",
       "      <td>540</td>\n",
       "      <td>4.89</td>\n",
       "      <td>141.66</td>\n",
       "      <td>160.36</td>\n",
       "      <td>1640.49</td>\n",
       "      <td>30.69</td>\n",
       "      <td>0</td>\n",
       "    </tr>\n",
       "    <tr>\n",
       "      <th>3</th>\n",
       "      <td>4</td>\n",
       "      <td>2</td>\n",
       "      <td>177.73</td>\n",
       "      <td>267</td>\n",
       "      <td>3.15</td>\n",
       "      <td>78.84</td>\n",
       "      <td>73.03</td>\n",
       "      <td>301.42</td>\n",
       "      <td>8.22</td>\n",
       "      <td>0</td>\n",
       "    </tr>\n",
       "    <tr>\n",
       "      <th>4</th>\n",
       "      <td>5</td>\n",
       "      <td>3</td>\n",
       "      <td>226.23</td>\n",
       "      <td>452</td>\n",
       "      <td>21.10</td>\n",
       "      <td>82.68</td>\n",
       "      <td>290.83</td>\n",
       "      <td>2245.73</td>\n",
       "      <td>7.57</td>\n",
       "      <td>1</td>\n",
       "    </tr>\n",
       "    <tr>\n",
       "      <th>5</th>\n",
       "      <td>6</td>\n",
       "      <td>3</td>\n",
       "      <td>394.08</td>\n",
       "      <td>788</td>\n",
       "      <td>6.83</td>\n",
       "      <td>471.90</td>\n",
       "      <td>296.97</td>\n",
       "      <td>1868.80</td>\n",
       "      <td>43.08</td>\n",
       "      <td>1</td>\n",
       "    </tr>\n",
       "    <tr>\n",
       "      <th>6</th>\n",
       "      <td>7</td>\n",
       "      <td>1</td>\n",
       "      <td>151.78</td>\n",
       "      <td>190</td>\n",
       "      <td>16.26</td>\n",
       "      <td>200.52</td>\n",
       "      <td>25.54</td>\n",
       "      <td>2369.45</td>\n",
       "      <td>11.94</td>\n",
       "      <td>1</td>\n",
       "    </tr>\n",
       "    <tr>\n",
       "      <th>7</th>\n",
       "      <td>8</td>\n",
       "      <td>3</td>\n",
       "      <td>255.32</td>\n",
       "      <td>511</td>\n",
       "      <td>2.97</td>\n",
       "      <td>127.99</td>\n",
       "      <td>51.84</td>\n",
       "      <td>283.96</td>\n",
       "      <td>56.91</td>\n",
       "      <td>0</td>\n",
       "    </tr>\n",
       "    <tr>\n",
       "      <th>8</th>\n",
       "      <td>9</td>\n",
       "      <td>2</td>\n",
       "      <td>323.24</td>\n",
       "      <td>485</td>\n",
       "      <td>28.38</td>\n",
       "      <td>32.04</td>\n",
       "      <td>296.54</td>\n",
       "      <td>1382.15</td>\n",
       "      <td>45.28</td>\n",
       "      <td>1</td>\n",
       "    </tr>\n",
       "    <tr>\n",
       "      <th>9</th>\n",
       "      <td>10</td>\n",
       "      <td>3</td>\n",
       "      <td>399.23</td>\n",
       "      <td>798</td>\n",
       "      <td>9.06</td>\n",
       "      <td>18.49</td>\n",
       "      <td>311.73</td>\n",
       "      <td>2027.96</td>\n",
       "      <td>57.94</td>\n",
       "      <td>1</td>\n",
       "    </tr>\n",
       "  </tbody>\n",
       "</table>\n",
       "</div>"
      ],
      "text/plain": [
       "   ROW_NUMBER  SUBGROUP  AVG_SPENDING  TARGET_SPENDING  AVG_CALL_COUNT  \\\n",
       "0           1         2        129.74              195            8.68   \n",
       "1           2         1         22.51               28           10.83   \n",
       "2           3         2        359.96              540            4.89   \n",
       "3           4         2        177.73              267            3.15   \n",
       "4           5         3        226.23              452           21.10   \n",
       "5           6         3        394.08              788            6.83   \n",
       "6           7         1        151.78              190           16.26   \n",
       "7           8         3        255.32              511            2.97   \n",
       "8           9         2        323.24              485           28.38   \n",
       "9          10         3        399.23              798            9.06   \n",
       "\n",
       "   AVG_CALL_DUR  AVG_ACCT_BAL_BEFORE_CALL  AVG_RECHARGE_AMT  \\\n",
       "0         23.22                    219.24            208.94   \n",
       "1         25.91                    258.34           2348.37   \n",
       "2        141.66                    160.36           1640.49   \n",
       "3         78.84                     73.03            301.42   \n",
       "4         82.68                    290.83           2245.73   \n",
       "5        471.90                    296.97           1868.80   \n",
       "6        200.52                     25.54           2369.45   \n",
       "7        127.99                     51.84            283.96   \n",
       "8         32.04                    296.54           1382.15   \n",
       "9         18.49                    311.73           2027.96   \n",
       "\n",
       "   AVG_ACCT_BAL_BEFORE_RECHARGE  LABEL  \n",
       "0                         60.40      0  \n",
       "1                         37.77      1  \n",
       "2                         30.69      0  \n",
       "3                          8.22      0  \n",
       "4                          7.57      1  \n",
       "5                         43.08      1  \n",
       "6                         11.94      1  \n",
       "7                         56.91      0  \n",
       "8                         45.28      1  \n",
       "9                         57.94      1  "
      ]
     },
     "execution_count": 243,
     "metadata": {},
     "output_type": "execute_result"
    }
   ],
   "source": [
    "#A few rows of data are displayed\n",
    "data.head(10)"
   ]
  },
  {
   "cell_type": "code",
   "execution_count": 244,
   "metadata": {},
   "outputs": [
    {
     "name": "stdout",
     "output_type": "stream",
     "text": [
      "The shape of the data is: (30000, 10)\n"
     ]
    }
   ],
   "source": [
    "print(\"The shape of the data is:\", data.shape)"
   ]
  },
  {
   "cell_type": "code",
   "execution_count": 245,
   "metadata": {},
   "outputs": [
    {
     "data": {
      "text/html": [
       "<div>\n",
       "<style scoped>\n",
       "    .dataframe tbody tr th:only-of-type {\n",
       "        vertical-align: middle;\n",
       "    }\n",
       "\n",
       "    .dataframe tbody tr th {\n",
       "        vertical-align: top;\n",
       "    }\n",
       "\n",
       "    .dataframe thead th {\n",
       "        text-align: right;\n",
       "    }\n",
       "</style>\n",
       "<table border=\"1\" class=\"dataframe\">\n",
       "  <thead>\n",
       "    <tr style=\"text-align: right;\">\n",
       "      <th></th>\n",
       "      <th>ROW_NUMBER</th>\n",
       "      <th>SUBGROUP</th>\n",
       "      <th>AVG_SPENDING</th>\n",
       "      <th>TARGET_SPENDING</th>\n",
       "      <th>AVG_CALL_COUNT</th>\n",
       "      <th>AVG_CALL_DUR</th>\n",
       "      <th>AVG_ACCT_BAL_BEFORE_CALL</th>\n",
       "      <th>AVG_RECHARGE_AMT</th>\n",
       "      <th>AVG_ACCT_BAL_BEFORE_RECHARGE</th>\n",
       "      <th>LABEL</th>\n",
       "    </tr>\n",
       "  </thead>\n",
       "  <tbody>\n",
       "    <tr>\n",
       "      <th>count</th>\n",
       "      <td>30000.000000</td>\n",
       "      <td>30000.00000</td>\n",
       "      <td>30000.000000</td>\n",
       "      <td>30000.000000</td>\n",
       "      <td>30000.000000</td>\n",
       "      <td>30000.000000</td>\n",
       "      <td>30000.000000</td>\n",
       "      <td>30000.000000</td>\n",
       "      <td>30000.000000</td>\n",
       "      <td>30000.000000</td>\n",
       "    </tr>\n",
       "    <tr>\n",
       "      <th>mean</th>\n",
       "      <td>15000.500000</td>\n",
       "      <td>2.00000</td>\n",
       "      <td>240.060581</td>\n",
       "      <td>379.939033</td>\n",
       "      <td>14.266211</td>\n",
       "      <td>116.861984</td>\n",
       "      <td>184.331443</td>\n",
       "      <td>1827.583227</td>\n",
       "      <td>35.464034</td>\n",
       "      <td>0.548467</td>\n",
       "    </tr>\n",
       "    <tr>\n",
       "      <th>std</th>\n",
       "      <td>8660.398374</td>\n",
       "      <td>0.81651</td>\n",
       "      <td>125.204707</td>\n",
       "      <td>215.547146</td>\n",
       "      <td>8.260074</td>\n",
       "      <td>100.909621</td>\n",
       "      <td>103.554421</td>\n",
       "      <td>1027.716849</td>\n",
       "      <td>20.499472</td>\n",
       "      <td>0.497654</td>\n",
       "    </tr>\n",
       "    <tr>\n",
       "      <th>min</th>\n",
       "      <td>1.000000</td>\n",
       "      <td>1.00000</td>\n",
       "      <td>2.850000</td>\n",
       "      <td>4.000000</td>\n",
       "      <td>1.000000</td>\n",
       "      <td>2.030000</td>\n",
       "      <td>5.000000</td>\n",
       "      <td>50.250000</td>\n",
       "      <td>0.000000</td>\n",
       "      <td>0.000000</td>\n",
       "    </tr>\n",
       "    <tr>\n",
       "      <th>25%</th>\n",
       "      <td>7500.750000</td>\n",
       "      <td>1.00000</td>\n",
       "      <td>135.530000</td>\n",
       "      <td>206.000000</td>\n",
       "      <td>7.840000</td>\n",
       "      <td>45.820000</td>\n",
       "      <td>94.360000</td>\n",
       "      <td>937.835000</td>\n",
       "      <td>17.707500</td>\n",
       "      <td>0.000000</td>\n",
       "    </tr>\n",
       "    <tr>\n",
       "      <th>50%</th>\n",
       "      <td>15000.500000</td>\n",
       "      <td>2.00000</td>\n",
       "      <td>235.340000</td>\n",
       "      <td>361.000000</td>\n",
       "      <td>12.850000</td>\n",
       "      <td>88.130000</td>\n",
       "      <td>184.735000</td>\n",
       "      <td>1829.780000</td>\n",
       "      <td>35.360000</td>\n",
       "      <td>1.000000</td>\n",
       "    </tr>\n",
       "    <tr>\n",
       "      <th>75%</th>\n",
       "      <td>22500.250000</td>\n",
       "      <td>3.00000</td>\n",
       "      <td>343.295000</td>\n",
       "      <td>526.000000</td>\n",
       "      <td>19.102500</td>\n",
       "      <td>157.425000</td>\n",
       "      <td>273.915000</td>\n",
       "      <td>2721.542500</td>\n",
       "      <td>53.232500</td>\n",
       "      <td>1.000000</td>\n",
       "    </tr>\n",
       "    <tr>\n",
       "      <th>max</th>\n",
       "      <td>30000.000000</td>\n",
       "      <td>3.00000</td>\n",
       "      <td>585.500000</td>\n",
       "      <td>1167.000000</td>\n",
       "      <td>59.140000</td>\n",
       "      <td>933.960000</td>\n",
       "      <td>363.990000</td>\n",
       "      <td>3600.940000</td>\n",
       "      <td>70.990000</td>\n",
       "      <td>1.000000</td>\n",
       "    </tr>\n",
       "  </tbody>\n",
       "</table>\n",
       "</div>"
      ],
      "text/plain": [
       "         ROW_NUMBER     SUBGROUP  AVG_SPENDING  TARGET_SPENDING  \\\n",
       "count  30000.000000  30000.00000  30000.000000     30000.000000   \n",
       "mean   15000.500000      2.00000    240.060581       379.939033   \n",
       "std     8660.398374      0.81651    125.204707       215.547146   \n",
       "min        1.000000      1.00000      2.850000         4.000000   \n",
       "25%     7500.750000      1.00000    135.530000       206.000000   \n",
       "50%    15000.500000      2.00000    235.340000       361.000000   \n",
       "75%    22500.250000      3.00000    343.295000       526.000000   \n",
       "max    30000.000000      3.00000    585.500000      1167.000000   \n",
       "\n",
       "       AVG_CALL_COUNT  AVG_CALL_DUR  AVG_ACCT_BAL_BEFORE_CALL  \\\n",
       "count    30000.000000  30000.000000              30000.000000   \n",
       "mean        14.266211    116.861984                184.331443   \n",
       "std          8.260074    100.909621                103.554421   \n",
       "min          1.000000      2.030000                  5.000000   \n",
       "25%          7.840000     45.820000                 94.360000   \n",
       "50%         12.850000     88.130000                184.735000   \n",
       "75%         19.102500    157.425000                273.915000   \n",
       "max         59.140000    933.960000                363.990000   \n",
       "\n",
       "       AVG_RECHARGE_AMT  AVG_ACCT_BAL_BEFORE_RECHARGE         LABEL  \n",
       "count      30000.000000                  30000.000000  30000.000000  \n",
       "mean        1827.583227                     35.464034      0.548467  \n",
       "std         1027.716849                     20.499472      0.497654  \n",
       "min           50.250000                      0.000000      0.000000  \n",
       "25%          937.835000                     17.707500      0.000000  \n",
       "50%         1829.780000                     35.360000      1.000000  \n",
       "75%         2721.542500                     53.232500      1.000000  \n",
       "max         3600.940000                     70.990000      1.000000  "
      ]
     },
     "execution_count": 245,
     "metadata": {},
     "output_type": "execute_result"
    }
   ],
   "source": [
    "# Basic statistics of the dataset\n",
    "data.describe()"
   ]
  },
  {
   "cell_type": "code",
   "execution_count": 246,
   "metadata": {},
   "outputs": [
    {
     "name": "stdout",
     "output_type": "stream",
     "text": [
      "<class 'pandas.core.frame.DataFrame'>\n",
      "RangeIndex: 30000 entries, 0 to 29999\n",
      "Data columns (total 10 columns):\n",
      " #   Column                        Non-Null Count  Dtype  \n",
      "---  ------                        --------------  -----  \n",
      " 0   ROW_NUMBER                    30000 non-null  int64  \n",
      " 1   SUBGROUP                      30000 non-null  int64  \n",
      " 2   AVG_SPENDING                  30000 non-null  float64\n",
      " 3   TARGET_SPENDING               30000 non-null  int64  \n",
      " 4   AVG_CALL_COUNT                30000 non-null  float64\n",
      " 5   AVG_CALL_DUR                  30000 non-null  float64\n",
      " 6   AVG_ACCT_BAL_BEFORE_CALL      30000 non-null  float64\n",
      " 7   AVG_RECHARGE_AMT              30000 non-null  float64\n",
      " 8   AVG_ACCT_BAL_BEFORE_RECHARGE  30000 non-null  float64\n",
      " 9   LABEL                         30000 non-null  int64  \n",
      "dtypes: float64(6), int64(4)\n",
      "memory usage: 2.3 MB\n"
     ]
    }
   ],
   "source": [
    "data.info()"
   ]
  },
  {
   "cell_type": "markdown",
   "metadata": {},
   "source": [
    "The below generates summaries for purchasers only."
   ]
  },
  {
   "cell_type": "code",
   "execution_count": 247,
   "metadata": {},
   "outputs": [
    {
     "data": {
      "text/html": [
       "<div>\n",
       "<style scoped>\n",
       "    .dataframe tbody tr th:only-of-type {\n",
       "        vertical-align: middle;\n",
       "    }\n",
       "\n",
       "    .dataframe tbody tr th {\n",
       "        vertical-align: top;\n",
       "    }\n",
       "\n",
       "    .dataframe thead th {\n",
       "        text-align: right;\n",
       "    }\n",
       "</style>\n",
       "<table border=\"1\" class=\"dataframe\">\n",
       "  <thead>\n",
       "    <tr style=\"text-align: right;\">\n",
       "      <th></th>\n",
       "      <th>ROW_NUMBER</th>\n",
       "      <th>SUBGROUP</th>\n",
       "      <th>AVG_SPENDING</th>\n",
       "      <th>TARGET_SPENDING</th>\n",
       "      <th>AVG_CALL_COUNT</th>\n",
       "      <th>AVG_CALL_DUR</th>\n",
       "      <th>AVG_ACCT_BAL_BEFORE_CALL</th>\n",
       "      <th>AVG_RECHARGE_AMT</th>\n",
       "      <th>AVG_ACCT_BAL_BEFORE_RECHARGE</th>\n",
       "      <th>LABEL</th>\n",
       "    </tr>\n",
       "  </thead>\n",
       "  <tbody>\n",
       "    <tr>\n",
       "      <th>count</th>\n",
       "      <td>16454.000000</td>\n",
       "      <td>16454.000000</td>\n",
       "      <td>16454.000000</td>\n",
       "      <td>16454.000000</td>\n",
       "      <td>16454.000000</td>\n",
       "      <td>16454.000000</td>\n",
       "      <td>16454.000000</td>\n",
       "      <td>16454.000000</td>\n",
       "      <td>16454.000000</td>\n",
       "      <td>16454.0</td>\n",
       "    </tr>\n",
       "    <tr>\n",
       "      <th>mean</th>\n",
       "      <td>14438.224444</td>\n",
       "      <td>1.921721</td>\n",
       "      <td>240.177131</td>\n",
       "      <td>372.460921</td>\n",
       "      <td>15.527091</td>\n",
       "      <td>144.214037</td>\n",
       "      <td>218.775348</td>\n",
       "      <td>1830.610416</td>\n",
       "      <td>35.463470</td>\n",
       "      <td>1.0</td>\n",
       "    </tr>\n",
       "    <tr>\n",
       "      <th>std</th>\n",
       "      <td>8691.320603</td>\n",
       "      <td>0.811138</td>\n",
       "      <td>125.001888</td>\n",
       "      <td>209.909634</td>\n",
       "      <td>9.122375</td>\n",
       "      <td>114.341867</td>\n",
       "      <td>105.139350</td>\n",
       "      <td>1024.793075</td>\n",
       "      <td>20.529419</td>\n",
       "      <td>0.0</td>\n",
       "    </tr>\n",
       "    <tr>\n",
       "      <th>min</th>\n",
       "      <td>2.000000</td>\n",
       "      <td>1.000000</td>\n",
       "      <td>2.850000</td>\n",
       "      <td>4.000000</td>\n",
       "      <td>1.030000</td>\n",
       "      <td>2.050000</td>\n",
       "      <td>5.000000</td>\n",
       "      <td>50.450000</td>\n",
       "      <td>0.000000</td>\n",
       "      <td>1.0</td>\n",
       "    </tr>\n",
       "    <tr>\n",
       "      <th>25%</th>\n",
       "      <td>6921.000000</td>\n",
       "      <td>1.000000</td>\n",
       "      <td>136.730000</td>\n",
       "      <td>204.000000</td>\n",
       "      <td>8.250000</td>\n",
       "      <td>56.080000</td>\n",
       "      <td>128.810000</td>\n",
       "      <td>942.247500</td>\n",
       "      <td>17.750000</td>\n",
       "      <td>1.0</td>\n",
       "    </tr>\n",
       "    <tr>\n",
       "      <th>50%</th>\n",
       "      <td>13926.500000</td>\n",
       "      <td>2.000000</td>\n",
       "      <td>236.410000</td>\n",
       "      <td>355.500000</td>\n",
       "      <td>13.760000</td>\n",
       "      <td>115.610000</td>\n",
       "      <td>250.965000</td>\n",
       "      <td>1838.030000</td>\n",
       "      <td>35.310000</td>\n",
       "      <td>1.0</td>\n",
       "    </tr>\n",
       "    <tr>\n",
       "      <th>75%</th>\n",
       "      <td>21983.750000</td>\n",
       "      <td>3.000000</td>\n",
       "      <td>343.007500</td>\n",
       "      <td>514.000000</td>\n",
       "      <td>21.140000</td>\n",
       "      <td>202.685000</td>\n",
       "      <td>308.287500</td>\n",
       "      <td>2724.057500</td>\n",
       "      <td>53.177500</td>\n",
       "      <td>1.0</td>\n",
       "    </tr>\n",
       "    <tr>\n",
       "      <th>max</th>\n",
       "      <td>29999.000000</td>\n",
       "      <td>3.000000</td>\n",
       "      <td>585.500000</td>\n",
       "      <td>1154.000000</td>\n",
       "      <td>59.140000</td>\n",
       "      <td>933.960000</td>\n",
       "      <td>363.990000</td>\n",
       "      <td>3600.920000</td>\n",
       "      <td>70.990000</td>\n",
       "      <td>1.0</td>\n",
       "    </tr>\n",
       "  </tbody>\n",
       "</table>\n",
       "</div>"
      ],
      "text/plain": [
       "         ROW_NUMBER      SUBGROUP  AVG_SPENDING  TARGET_SPENDING  \\\n",
       "count  16454.000000  16454.000000  16454.000000     16454.000000   \n",
       "mean   14438.224444      1.921721    240.177131       372.460921   \n",
       "std     8691.320603      0.811138    125.001888       209.909634   \n",
       "min        2.000000      1.000000      2.850000         4.000000   \n",
       "25%     6921.000000      1.000000    136.730000       204.000000   \n",
       "50%    13926.500000      2.000000    236.410000       355.500000   \n",
       "75%    21983.750000      3.000000    343.007500       514.000000   \n",
       "max    29999.000000      3.000000    585.500000      1154.000000   \n",
       "\n",
       "       AVG_CALL_COUNT  AVG_CALL_DUR  AVG_ACCT_BAL_BEFORE_CALL  \\\n",
       "count    16454.000000  16454.000000              16454.000000   \n",
       "mean        15.527091    144.214037                218.775348   \n",
       "std          9.122375    114.341867                105.139350   \n",
       "min          1.030000      2.050000                  5.000000   \n",
       "25%          8.250000     56.080000                128.810000   \n",
       "50%         13.760000    115.610000                250.965000   \n",
       "75%         21.140000    202.685000                308.287500   \n",
       "max         59.140000    933.960000                363.990000   \n",
       "\n",
       "       AVG_RECHARGE_AMT  AVG_ACCT_BAL_BEFORE_RECHARGE    LABEL  \n",
       "count      16454.000000                  16454.000000  16454.0  \n",
       "mean        1830.610416                     35.463470      1.0  \n",
       "std         1024.793075                     20.529419      0.0  \n",
       "min           50.450000                      0.000000      1.0  \n",
       "25%          942.247500                     17.750000      1.0  \n",
       "50%         1838.030000                     35.310000      1.0  \n",
       "75%         2724.057500                     53.177500      1.0  \n",
       "max         3600.920000                     70.990000      1.0  "
      ]
     },
     "execution_count": 247,
     "metadata": {},
     "output_type": "execute_result"
    }
   ],
   "source": [
    "# Analysing Purchasers alone\n",
    "purchasers = data[data['LABEL'] == 1]\n",
    "purchasers.describe()"
   ]
  },
  {
   "cell_type": "markdown",
   "metadata": {},
   "source": [
    "The below generates summaries for non-purchasers only"
   ]
  },
  {
   "cell_type": "code",
   "execution_count": 248,
   "metadata": {},
   "outputs": [
    {
     "data": {
      "text/html": [
       "<div>\n",
       "<style scoped>\n",
       "    .dataframe tbody tr th:only-of-type {\n",
       "        vertical-align: middle;\n",
       "    }\n",
       "\n",
       "    .dataframe tbody tr th {\n",
       "        vertical-align: top;\n",
       "    }\n",
       "\n",
       "    .dataframe thead th {\n",
       "        text-align: right;\n",
       "    }\n",
       "</style>\n",
       "<table border=\"1\" class=\"dataframe\">\n",
       "  <thead>\n",
       "    <tr style=\"text-align: right;\">\n",
       "      <th></th>\n",
       "      <th>ROW_NUMBER</th>\n",
       "      <th>SUBGROUP</th>\n",
       "      <th>AVG_SPENDING</th>\n",
       "      <th>TARGET_SPENDING</th>\n",
       "      <th>AVG_CALL_COUNT</th>\n",
       "      <th>AVG_CALL_DUR</th>\n",
       "      <th>AVG_ACCT_BAL_BEFORE_CALL</th>\n",
       "      <th>AVG_RECHARGE_AMT</th>\n",
       "      <th>AVG_ACCT_BAL_BEFORE_RECHARGE</th>\n",
       "      <th>LABEL</th>\n",
       "    </tr>\n",
       "  </thead>\n",
       "  <tbody>\n",
       "    <tr>\n",
       "      <th>count</th>\n",
       "      <td>13546.000000</td>\n",
       "      <td>13546.000000</td>\n",
       "      <td>13546.000000</td>\n",
       "      <td>13546.000000</td>\n",
       "      <td>13546.000000</td>\n",
       "      <td>13546.000000</td>\n",
       "      <td>13546.000000</td>\n",
       "      <td>13546.000000</td>\n",
       "      <td>13546.000000</td>\n",
       "      <td>13546.0</td>\n",
       "    </tr>\n",
       "    <tr>\n",
       "      <th>mean</th>\n",
       "      <td>15683.482578</td>\n",
       "      <td>2.095083</td>\n",
       "      <td>239.919010</td>\n",
       "      <td>389.022516</td>\n",
       "      <td>12.734650</td>\n",
       "      <td>83.638103</td>\n",
       "      <td>142.493261</td>\n",
       "      <td>1823.906173</td>\n",
       "      <td>35.464719</td>\n",
       "      <td>0.0</td>\n",
       "    </tr>\n",
       "    <tr>\n",
       "      <th>std</th>\n",
       "      <td>8573.548703</td>\n",
       "      <td>0.812941</td>\n",
       "      <td>125.455094</td>\n",
       "      <td>221.871616</td>\n",
       "      <td>6.763866</td>\n",
       "      <td>68.254931</td>\n",
       "      <td>84.444022</td>\n",
       "      <td>1031.283037</td>\n",
       "      <td>20.463793</td>\n",
       "      <td>0.0</td>\n",
       "    </tr>\n",
       "    <tr>\n",
       "      <th>min</th>\n",
       "      <td>1.000000</td>\n",
       "      <td>1.000000</td>\n",
       "      <td>3.220000</td>\n",
       "      <td>4.000000</td>\n",
       "      <td>1.000000</td>\n",
       "      <td>2.030000</td>\n",
       "      <td>5.120000</td>\n",
       "      <td>50.250000</td>\n",
       "      <td>0.000000</td>\n",
       "      <td>0.0</td>\n",
       "    </tr>\n",
       "    <tr>\n",
       "      <th>25%</th>\n",
       "      <td>8342.500000</td>\n",
       "      <td>1.000000</td>\n",
       "      <td>134.472500</td>\n",
       "      <td>209.000000</td>\n",
       "      <td>7.360000</td>\n",
       "      <td>38.000000</td>\n",
       "      <td>72.522500</td>\n",
       "      <td>930.662500</td>\n",
       "      <td>17.630000</td>\n",
       "      <td>0.0</td>\n",
       "    </tr>\n",
       "    <tr>\n",
       "      <th>50%</th>\n",
       "      <td>16163.000000</td>\n",
       "      <td>2.000000</td>\n",
       "      <td>234.170000</td>\n",
       "      <td>366.000000</td>\n",
       "      <td>11.920000</td>\n",
       "      <td>69.240000</td>\n",
       "      <td>137.520000</td>\n",
       "      <td>1822.085000</td>\n",
       "      <td>35.445000</td>\n",
       "      <td>0.0</td>\n",
       "    </tr>\n",
       "    <tr>\n",
       "      <th>75%</th>\n",
       "      <td>23014.750000</td>\n",
       "      <td>3.000000</td>\n",
       "      <td>343.707500</td>\n",
       "      <td>539.000000</td>\n",
       "      <td>17.130000</td>\n",
       "      <td>111.790000</td>\n",
       "      <td>204.605000</td>\n",
       "      <td>2715.475000</td>\n",
       "      <td>53.310000</td>\n",
       "      <td>0.0</td>\n",
       "    </tr>\n",
       "    <tr>\n",
       "      <th>max</th>\n",
       "      <td>30000.000000</td>\n",
       "      <td>3.000000</td>\n",
       "      <td>583.430000</td>\n",
       "      <td>1167.000000</td>\n",
       "      <td>58.100000</td>\n",
       "      <td>809.140000</td>\n",
       "      <td>363.870000</td>\n",
       "      <td>3600.940000</td>\n",
       "      <td>70.990000</td>\n",
       "      <td>0.0</td>\n",
       "    </tr>\n",
       "  </tbody>\n",
       "</table>\n",
       "</div>"
      ],
      "text/plain": [
       "         ROW_NUMBER      SUBGROUP  AVG_SPENDING  TARGET_SPENDING  \\\n",
       "count  13546.000000  13546.000000  13546.000000     13546.000000   \n",
       "mean   15683.482578      2.095083    239.919010       389.022516   \n",
       "std     8573.548703      0.812941    125.455094       221.871616   \n",
       "min        1.000000      1.000000      3.220000         4.000000   \n",
       "25%     8342.500000      1.000000    134.472500       209.000000   \n",
       "50%    16163.000000      2.000000    234.170000       366.000000   \n",
       "75%    23014.750000      3.000000    343.707500       539.000000   \n",
       "max    30000.000000      3.000000    583.430000      1167.000000   \n",
       "\n",
       "       AVG_CALL_COUNT  AVG_CALL_DUR  AVG_ACCT_BAL_BEFORE_CALL  \\\n",
       "count    13546.000000  13546.000000              13546.000000   \n",
       "mean        12.734650     83.638103                142.493261   \n",
       "std          6.763866     68.254931                 84.444022   \n",
       "min          1.000000      2.030000                  5.120000   \n",
       "25%          7.360000     38.000000                 72.522500   \n",
       "50%         11.920000     69.240000                137.520000   \n",
       "75%         17.130000    111.790000                204.605000   \n",
       "max         58.100000    809.140000                363.870000   \n",
       "\n",
       "       AVG_RECHARGE_AMT  AVG_ACCT_BAL_BEFORE_RECHARGE    LABEL  \n",
       "count      13546.000000                  13546.000000  13546.0  \n",
       "mean        1823.906173                     35.464719      0.0  \n",
       "std         1031.283037                     20.463793      0.0  \n",
       "min           50.250000                      0.000000      0.0  \n",
       "25%          930.662500                     17.630000      0.0  \n",
       "50%         1822.085000                     35.445000      0.0  \n",
       "75%         2715.475000                     53.310000      0.0  \n",
       "max         3600.940000                     70.990000      0.0  "
      ]
     },
     "execution_count": 248,
     "metadata": {},
     "output_type": "execute_result"
    }
   ],
   "source": [
    "# Analysing Non-Purchasers alone\n",
    "non_purchasers = data[data['LABEL'] == 0]\n",
    "non_purchasers.describe()"
   ]
  },
  {
   "cell_type": "markdown",
   "metadata": {},
   "source": [
    "## 1. Training the model on the whole dataset"
   ]
  },
  {
   "cell_type": "markdown",
   "metadata": {},
   "source": [
    "In this section, I train the Random Forest model on the whole dataset, without separating different groups. This provides general performance on the whole group regardless of the price of the offered discounted package."
   ]
  },
  {
   "cell_type": "code",
   "execution_count": 249,
   "metadata": {},
   "outputs": [],
   "source": [
    "# Separate the features into a separate dataframe\n",
    "X = data.drop('LABEL', axis = 1)\\\n",
    "    .drop('ROW_NUMBER', axis = 1)\\\n",
    "    .drop('SUBGROUP', axis = 1)\\\n",
    "    .drop('AVG_SPENDING', axis = 1)\\\n",
    "    .drop('TARGET_SPENDING', axis = 1)\n",
    "\n",
    "# Separate labels into their own numpy array\n",
    "y = np.array(data['LABEL'])"
   ]
  },
  {
   "cell_type": "code",
   "execution_count": 250,
   "metadata": {},
   "outputs": [
    {
     "data": {
      "text/html": [
       "<div>\n",
       "<style scoped>\n",
       "    .dataframe tbody tr th:only-of-type {\n",
       "        vertical-align: middle;\n",
       "    }\n",
       "\n",
       "    .dataframe tbody tr th {\n",
       "        vertical-align: top;\n",
       "    }\n",
       "\n",
       "    .dataframe thead th {\n",
       "        text-align: right;\n",
       "    }\n",
       "</style>\n",
       "<table border=\"1\" class=\"dataframe\">\n",
       "  <thead>\n",
       "    <tr style=\"text-align: right;\">\n",
       "      <th></th>\n",
       "      <th>AVG_CALL_COUNT</th>\n",
       "      <th>AVG_CALL_DUR</th>\n",
       "      <th>AVG_ACCT_BAL_BEFORE_CALL</th>\n",
       "      <th>AVG_RECHARGE_AMT</th>\n",
       "      <th>AVG_ACCT_BAL_BEFORE_RECHARGE</th>\n",
       "    </tr>\n",
       "  </thead>\n",
       "  <tbody>\n",
       "    <tr>\n",
       "      <th>0</th>\n",
       "      <td>8.68</td>\n",
       "      <td>23.22</td>\n",
       "      <td>219.24</td>\n",
       "      <td>208.94</td>\n",
       "      <td>60.40</td>\n",
       "    </tr>\n",
       "    <tr>\n",
       "      <th>1</th>\n",
       "      <td>10.83</td>\n",
       "      <td>25.91</td>\n",
       "      <td>258.34</td>\n",
       "      <td>2348.37</td>\n",
       "      <td>37.77</td>\n",
       "    </tr>\n",
       "    <tr>\n",
       "      <th>2</th>\n",
       "      <td>4.89</td>\n",
       "      <td>141.66</td>\n",
       "      <td>160.36</td>\n",
       "      <td>1640.49</td>\n",
       "      <td>30.69</td>\n",
       "    </tr>\n",
       "    <tr>\n",
       "      <th>3</th>\n",
       "      <td>3.15</td>\n",
       "      <td>78.84</td>\n",
       "      <td>73.03</td>\n",
       "      <td>301.42</td>\n",
       "      <td>8.22</td>\n",
       "    </tr>\n",
       "    <tr>\n",
       "      <th>4</th>\n",
       "      <td>21.10</td>\n",
       "      <td>82.68</td>\n",
       "      <td>290.83</td>\n",
       "      <td>2245.73</td>\n",
       "      <td>7.57</td>\n",
       "    </tr>\n",
       "  </tbody>\n",
       "</table>\n",
       "</div>"
      ],
      "text/plain": [
       "   AVG_CALL_COUNT  AVG_CALL_DUR  AVG_ACCT_BAL_BEFORE_CALL  AVG_RECHARGE_AMT  \\\n",
       "0            8.68         23.22                    219.24            208.94   \n",
       "1           10.83         25.91                    258.34           2348.37   \n",
       "2            4.89        141.66                    160.36           1640.49   \n",
       "3            3.15         78.84                     73.03            301.42   \n",
       "4           21.10         82.68                    290.83           2245.73   \n",
       "\n",
       "   AVG_ACCT_BAL_BEFORE_RECHARGE  \n",
       "0                         60.40  \n",
       "1                         37.77  \n",
       "2                         30.69  \n",
       "3                          8.22  \n",
       "4                          7.57  "
      ]
     },
     "execution_count": 250,
     "metadata": {},
     "output_type": "execute_result"
    }
   ],
   "source": [
    "# A few rows of the X features dataset\n",
    "X[0:5]"
   ]
  },
  {
   "cell_type": "markdown",
   "metadata": {},
   "source": [
    "The label data have already been correctly converted to binary values during the data preprocessing."
   ]
  },
  {
   "cell_type": "code",
   "execution_count": 251,
   "metadata": {},
   "outputs": [
    {
     "data": {
      "text/plain": [
       "array([0, 1, 0, 0, 1], dtype=int64)"
      ]
     },
     "execution_count": 251,
     "metadata": {},
     "output_type": "execute_result"
    }
   ],
   "source": [
    "# A few rows of the y labels\n",
    "y[0:5]"
   ]
  },
  {
   "cell_type": "markdown",
   "metadata": {},
   "source": [
    "In the below, I show the list of columns. Each column represent one of the features selected to be used in the Random Forest model and selected from the USAGE and RECHARGE datasets collected."
   ]
  },
  {
   "cell_type": "code",
   "execution_count": 252,
   "metadata": {},
   "outputs": [
    {
     "data": {
      "text/plain": [
       "['AVG_CALL_COUNT',\n",
       " 'AVG_CALL_DUR',\n",
       " 'AVG_ACCT_BAL_BEFORE_CALL',\n",
       " 'AVG_RECHARGE_AMT',\n",
       " 'AVG_ACCT_BAL_BEFORE_RECHARGE']"
      ]
     },
     "execution_count": 252,
     "metadata": {},
     "output_type": "execute_result"
    }
   ],
   "source": [
    "# Saving features names in a separate list\n",
    "feature_list = list(X.columns)\n",
    "feature_list"
   ]
  },
  {
   "cell_type": "code",
   "execution_count": 253,
   "metadata": {},
   "outputs": [],
   "source": [
    "# Converting the feature dataframe into a numpy array\n",
    "X = np.array(X)"
   ]
  },
  {
   "cell_type": "markdown",
   "metadata": {},
   "source": [
    "In the following I define the Random Forest model with 83 estimators and generate the 10-fold Cross Validation scores based on Accuracy."
   ]
  },
  {
   "cell_type": "code",
   "execution_count": 254,
   "metadata": {},
   "outputs": [],
   "source": [
    "# Define the model\n",
    "RFModel = RandomForestClassifier(random_state=42, n_estimators=50)\n",
    "\n",
    "#Evaluate the model with 10-folds Cross Validation\n",
    "cross_valid = RepeatedStratifiedKFold(n_splits=10, n_repeats=3, random_state=1)\n",
    "n_scores = cross_val_score(RFModel, X, y, scoring='accuracy', cv=cross_valid, n_jobs=-1, error_score='raise')"
   ]
  },
  {
   "cell_type": "markdown",
   "metadata": {},
   "source": [
    "### 1.1. Random Forest model training Accuracy"
   ]
  },
  {
   "cell_type": "code",
   "execution_count": null,
   "metadata": {},
   "outputs": [],
   "source": []
  },
  {
   "cell_type": "markdown",
   "metadata": {},
   "source": [
    "Below the performance Accuracy achieved with 10-fold cross validation is displayed. It can be noticed that the model achieves high prediction accuracy during training on the whole data set, and evaluating with 10-fold cross validation."
   ]
  },
  {
   "cell_type": "code",
   "execution_count": 255,
   "metadata": {},
   "outputs": [
    {
     "name": "stdout",
     "output_type": "stream",
     "text": [
      "Accuracy of the Random Forest model: 0.859 (0.005)\n"
     ]
    }
   ],
   "source": [
    "# report performance\n",
    "print('Training Accuracy of the Random Forest model: %.3f (%.3f)' % (mean(n_scores), std(n_scores)))"
   ]
  },
  {
   "cell_type": "markdown",
   "metadata": {},
   "source": [
    "In the following the dataset is split into training and testing dataset. The training dataset is used to fit the Logistic Regression model, while the test dataset is used to evaluate performance from data not used in training. The split is performed using 80:20 ratio, with 20% data (i.e. 6000 records) kept aside for testing. A random state of 42 is used to make sure the model can be reproduced for tuning."
   ]
  },
  {
   "cell_type": "code",
   "execution_count": 256,
   "metadata": {},
   "outputs": [],
   "source": [
    "# Split the data into training and testing sets\n",
    "X_train, X_test, y_train, y_test = train_test_split(X, y, test_size = 0.2, random_state = 42)"
   ]
  },
  {
   "cell_type": "markdown",
   "metadata": {},
   "source": [
    "The Random Forest model is then trained and fited with the training dataset together with the training labels."
   ]
  },
  {
   "cell_type": "code",
   "execution_count": 257,
   "metadata": {},
   "outputs": [
    {
     "data": {
      "text/plain": [
       "RandomForestClassifier(n_estimators=50, random_state=42)"
      ]
     },
     "execution_count": 257,
     "metadata": {},
     "output_type": "execute_result"
    }
   ],
   "source": [
    "# Fitting the RF Model on the training dataset\n",
    "RFModel.fit(X_train, y_train)"
   ]
  },
  {
   "cell_type": "markdown",
   "metadata": {},
   "source": [
    "### 1.2. Confusion Matrix of the Random Forest Model"
   ]
  },
  {
   "cell_type": "markdown",
   "metadata": {},
   "source": [
    "The Random Forest model is then used to predict the test dataset, and the performance metrics are extracted. The confusion matrix is also displayed to show how the model behaved."
   ]
  },
  {
   "cell_type": "code",
   "execution_count": 258,
   "metadata": {
    "scrolled": true
   },
   "outputs": [
    {
     "name": "stdout",
     "output_type": "stream",
     "text": [
      "              precision    recall  f1-score   support\n",
      "\n",
      "           0       0.84      0.85      0.84      2709\n",
      "           1       0.87      0.87      0.87      3291\n",
      "\n",
      "    accuracy                           0.86      6000\n",
      "   macro avg       0.86      0.86      0.86      6000\n",
      "weighted avg       0.86      0.86      0.86      6000\n",
      "\n"
     ]
    }
   ],
   "source": [
    "y_hat = RFModel.predict(X_test)\n",
    "print(metrics.classification_report(y_hat, y_test))"
   ]
  },
  {
   "cell_type": "code",
   "execution_count": 259,
   "metadata": {
    "scrolled": true
   },
   "outputs": [
    {
     "data": {
      "image/png": "[encoded data removed]",
      "text/plain": [
       "<Figure size 432x288 with 1 Axes>"
      ]
     },
     "metadata": {},
     "output_type": "display_data"
    }
   ],
   "source": [
    "mat = confusion_matrix(y_test, y_hat)\n",
    "sns.heatmap(mat.T, square=True, annot=True, fmt='d', cbar=False)\n",
    "plt.xlabel('Actual label')\n",
    "plt.ylabel('Predicted label');"
   ]
  },
  {
   "cell_type": "markdown",
   "metadata": {},
   "source": [
    "### 1.3. Mean Absolute Error of the Random Forest Model"
   ]
  },
  {
   "cell_type": "markdown",
   "metadata": {},
   "source": [
    "The below shows that the Mean Absolute Error is 0.14 degrees. This is very minimal and shows a good performance."
   ]
  },
  {
   "cell_type": "code",
   "execution_count": 260,
   "metadata": {},
   "outputs": [
    {
     "name": "stdout",
     "output_type": "stream",
     "text": [
      "Mean Absolute Error of the Random Forest model: 0.14 degrees.\n"
     ]
    }
   ],
   "source": [
    "# Use the forest's predict method on the test data\n",
    "predictions = RFModel.predict(X_test)\n",
    "# Calculate the absolute errors\n",
    "errors = abs(predictions - y_test)\n",
    "# Print out the mean absolute error (MAE)\n",
    "print('Mean Absolute Error of the Random Forest model:', round(np.mean(errors), 2), 'degrees.')"
   ]
  },
  {
   "cell_type": "markdown",
   "metadata": {},
   "source": [
    "### 1.4. AUC-ROC curve of the Random Forest Model"
   ]
  },
  {
   "cell_type": "markdown",
   "metadata": {},
   "source": [
    "In the below section, the AUC-ROC curve is generated. First, the Random Forest model is used to predict probabilities. Different thresholds are applied by the roc_curve function on these probabilities, then the ROC curve is generated, and AUC highlighted in the display."
   ]
  },
  {
   "cell_type": "code",
   "execution_count": 261,
   "metadata": {},
   "outputs": [],
   "source": [
    "# predict probabilities\n",
    "pred_prob = RFModel.predict_proba(X_test)"
   ]
  },
  {
   "cell_type": "code",
   "execution_count": 262,
   "metadata": {},
   "outputs": [],
   "source": [
    "# roc curve for models\n",
    "fpr, tpr, thresholds = roc_curve(y_test, pred_prob[:,1], pos_label=1)"
   ]
  },
  {
   "cell_type": "markdown",
   "metadata": {},
   "source": [
    "The AUC score of the Random Forest model can be noticed at 0.858and it is show bellow."
   ]
  },
  {
   "cell_type": "code",
   "execution_count": 263,
   "metadata": {},
   "outputs": [
    {
     "name": "stdout",
     "output_type": "stream",
     "text": [
      "AUC Score for the model trained on the whole dataset: 0.8582913862730764\n"
     ]
    }
   ],
   "source": [
    "# auc scores\n",
    "auc_score = roc_auc_score(y_test, pred_prob[:,1])\n",
    "print('AUC Score for the model trained on the whole dataset:', auc_score)"
   ]
  },
  {
   "cell_type": "code",
   "execution_count": 264,
   "metadata": {},
   "outputs": [
    {
     "data": {
      "image/png": "[encoded data removed]",
      "text/plain": [
       "<Figure size 576x396 with 1 Axes>"
      ]
     },
     "metadata": {},
     "output_type": "display_data"
    }
   ],
   "source": [
    "plt.style.use('seaborn')\n",
    "\n",
    "# plot roc curves\n",
    "plt.plot(fpr, tpr, linestyle='--',color='orange', label='Random Forest: Complete Dataset')\n",
    "\n",
    "# title\n",
    "plt.title('Random Forest AUC-ROC Curve - Complete Dataset')\n",
    "\n",
    "# x label\n",
    "plt.xlabel('False Positive Rate (FPR)')\n",
    "\n",
    "# y label\n",
    "plt.ylabel('True Positive Rate (TPR)')\n",
    "\n",
    "plt.legend(loc='best')\n",
    "plt.savefig('ROC',dpi=300)\n",
    "plt.show();"
   ]
  },
  {
   "cell_type": "markdown",
   "metadata": {},
   "source": [
    "### 1.5. Feature Importance in the Random Forest model"
   ]
  },
  {
   "cell_type": "markdown",
   "metadata": {},
   "source": [
    "The below code compute the importance of each feature used as input into the Random Forest model. The graph display the weight of each feature in the model. It can be noticed that three features have a more important weight (i.e. Average Account Balance Before Call, Average Call Duration and Average Call Count)."
   ]
  },
  {
   "cell_type": "code",
   "execution_count": 265,
   "metadata": {},
   "outputs": [
    {
     "name": "stdout",
     "output_type": "stream",
     "text": [
      "Feature: AVG_CALL_COUNT (Weight: 0.17862)\n",
      "Feature: AVG_CALL_DUR (Weight: 0.28590)\n",
      "Feature: AVG_ACCT_BAL_BEFORE_CALL (Weight: 0.34019)\n",
      "Feature: AVG_RECHARGE_AMT (Weight: 0.09715)\n",
      "Feature: AVG_ACCT_BAL_BEFORE_RECHARGE (Weight: 0.09814)\n"
     ]
    }
   ],
   "source": [
    "# Extract feature importance from the fitted model\n",
    "feature_importance = RFModel.feature_importances_\n",
    "\n",
    "#Generate a summary of the feature importance\n",
    "for i,v in enumerate(feature_importance):\n",
    "    print('Feature: %s (Weight: %.5f)' % (feature_list[i],v))"
   ]
  },
  {
   "cell_type": "code",
   "execution_count": 266,
   "metadata": {},
   "outputs": [
    {
     "data": {
      "image/png": "[encoded data removed]",
      "text/plain": [
       "<Figure size 576x396 with 1 Axes>"
      ]
     },
     "metadata": {},
     "output_type": "display_data"
    }
   ],
   "source": [
    "# plot feature importance\n",
    "pyplot.bar([x for x in range(len(feature_importance))], feature_importance)\n",
    "pyplot.show()"
   ]
  },
  {
   "cell_type": "code",
   "execution_count": 267,
   "metadata": {},
   "outputs": [
    {
     "name": "stdout",
     "output_type": "stream",
     "text": [
      "0 : AVG_CALL_COUNT\n",
      "1 : AVG_CALL_DUR\n",
      "2 : AVG_ACCT_BAL_BEFORE_CALL\n",
      "3 : AVG_RECHARGE_AMT\n",
      "4 : AVG_ACCT_BAL_BEFORE_RECHARGE\n"
     ]
    }
   ],
   "source": [
    "for i,v in enumerate(feature_importance):\n",
    "    print('%0d : %s' % (i, feature_list[i]))"
   ]
  },
  {
   "cell_type": "markdown",
   "metadata": {},
   "source": [
    "## 2. Training the RF model on Subgroup 1 Dataset"
   ]
  },
  {
   "cell_type": "markdown",
   "metadata": {},
   "source": [
    "Participants in the first subgroup of 10,000 subscribers were offered a package that provides 3 times more minutes compared to the average monthly minutes used by the participant to call a specific called party number. Out of this subgroup 6,107 participants equivalent to 61% of the participants in the subgroup accepted the package that cost 25% higher than the average they spent on calling the same called party number monthly in the previous 6 months considered in the research. The total spending of all participants in this subgroup is 2,212,635 RWF which means an average of 362.31 RWF per participant.\n",
    "\n",
    "In this section, the model is trained and evaluated using only Subgroup 1 dataset."
   ]
  },
  {
   "cell_type": "code",
   "execution_count": 268,
   "metadata": {},
   "outputs": [],
   "source": [
    "# Extract data related to subscribers in subgroup 1\n",
    "data_grp_1 = data[data['SUBGROUP'] == 1]\n",
    "\n",
    "X_grp_1 = data_grp_1.drop('LABEL', axis = 1)\\\n",
    "    .drop('SUBGROUP', axis = 1)\\\n",
    "    .drop('AVG_SPENDING', axis = 1)\\\n",
    "    .drop('TARGET_SPENDING', axis = 1)\n",
    "\n",
    "y_grp_1 = np.array(data_grp_1['LABEL'])\n",
    "X_grp_1 = np.array(X_grp_1)"
   ]
  },
  {
   "cell_type": "code",
   "execution_count": 269,
   "metadata": {},
   "outputs": [
    {
     "data": {
      "text/html": [
       "<div>\n",
       "<style scoped>\n",
       "    .dataframe tbody tr th:only-of-type {\n",
       "        vertical-align: middle;\n",
       "    }\n",
       "\n",
       "    .dataframe tbody tr th {\n",
       "        vertical-align: top;\n",
       "    }\n",
       "\n",
       "    .dataframe thead th {\n",
       "        text-align: right;\n",
       "    }\n",
       "</style>\n",
       "<table border=\"1\" class=\"dataframe\">\n",
       "  <thead>\n",
       "    <tr style=\"text-align: right;\">\n",
       "      <th></th>\n",
       "      <th>ROW_NUMBER</th>\n",
       "      <th>SUBGROUP</th>\n",
       "      <th>AVG_SPENDING</th>\n",
       "      <th>TARGET_SPENDING</th>\n",
       "      <th>AVG_CALL_COUNT</th>\n",
       "      <th>AVG_CALL_DUR</th>\n",
       "      <th>AVG_ACCT_BAL_BEFORE_CALL</th>\n",
       "      <th>AVG_RECHARGE_AMT</th>\n",
       "      <th>AVG_ACCT_BAL_BEFORE_RECHARGE</th>\n",
       "      <th>LABEL</th>\n",
       "    </tr>\n",
       "  </thead>\n",
       "  <tbody>\n",
       "    <tr>\n",
       "      <th>count</th>\n",
       "      <td>10000.00000</td>\n",
       "      <td>10000.0</td>\n",
       "      <td>10000.000000</td>\n",
       "      <td>10000.000000</td>\n",
       "      <td>10000.000000</td>\n",
       "      <td>10000.000000</td>\n",
       "      <td>10000.000000</td>\n",
       "      <td>10000.000000</td>\n",
       "      <td>10000.000000</td>\n",
       "      <td>10000.000000</td>\n",
       "    </tr>\n",
       "    <tr>\n",
       "      <th>mean</th>\n",
       "      <td>14962.91810</td>\n",
       "      <td>1.0</td>\n",
       "      <td>240.816203</td>\n",
       "      <td>301.029500</td>\n",
       "      <td>14.395480</td>\n",
       "      <td>121.403099</td>\n",
       "      <td>188.085895</td>\n",
       "      <td>1824.114785</td>\n",
       "      <td>35.304699</td>\n",
       "      <td>0.610700</td>\n",
       "    </tr>\n",
       "    <tr>\n",
       "      <th>std</th>\n",
       "      <td>8679.78578</td>\n",
       "      <td>0.0</td>\n",
       "      <td>124.800131</td>\n",
       "      <td>156.002615</td>\n",
       "      <td>8.372766</td>\n",
       "      <td>103.825803</td>\n",
       "      <td>104.530199</td>\n",
       "      <td>1023.856148</td>\n",
       "      <td>20.499452</td>\n",
       "      <td>0.487616</td>\n",
       "    </tr>\n",
       "    <tr>\n",
       "      <th>min</th>\n",
       "      <td>2.00000</td>\n",
       "      <td>1.0</td>\n",
       "      <td>3.280000</td>\n",
       "      <td>4.000000</td>\n",
       "      <td>1.010000</td>\n",
       "      <td>2.050000</td>\n",
       "      <td>5.000000</td>\n",
       "      <td>50.450000</td>\n",
       "      <td>0.000000</td>\n",
       "      <td>0.000000</td>\n",
       "    </tr>\n",
       "    <tr>\n",
       "      <th>25%</th>\n",
       "      <td>7483.75000</td>\n",
       "      <td>1.0</td>\n",
       "      <td>136.855000</td>\n",
       "      <td>171.000000</td>\n",
       "      <td>7.800000</td>\n",
       "      <td>47.175000</td>\n",
       "      <td>96.450000</td>\n",
       "      <td>929.612500</td>\n",
       "      <td>17.555000</td>\n",
       "      <td>0.000000</td>\n",
       "    </tr>\n",
       "    <tr>\n",
       "      <th>50%</th>\n",
       "      <td>14974.00000</td>\n",
       "      <td>1.0</td>\n",
       "      <td>238.230000</td>\n",
       "      <td>298.000000</td>\n",
       "      <td>12.940000</td>\n",
       "      <td>91.300000</td>\n",
       "      <td>190.810000</td>\n",
       "      <td>1816.045000</td>\n",
       "      <td>35.190000</td>\n",
       "      <td>1.000000</td>\n",
       "    </tr>\n",
       "    <tr>\n",
       "      <th>75%</th>\n",
       "      <td>22541.25000</td>\n",
       "      <td>1.0</td>\n",
       "      <td>343.710000</td>\n",
       "      <td>430.000000</td>\n",
       "      <td>19.420000</td>\n",
       "      <td>166.342500</td>\n",
       "      <td>278.882500</td>\n",
       "      <td>2708.607500</td>\n",
       "      <td>53.002500</td>\n",
       "      <td>1.000000</td>\n",
       "    </tr>\n",
       "    <tr>\n",
       "      <th>max</th>\n",
       "      <td>30000.00000</td>\n",
       "      <td>1.0</td>\n",
       "      <td>573.900000</td>\n",
       "      <td>717.000000</td>\n",
       "      <td>59.140000</td>\n",
       "      <td>927.350000</td>\n",
       "      <td>363.990000</td>\n",
       "      <td>3600.860000</td>\n",
       "      <td>70.990000</td>\n",
       "      <td>1.000000</td>\n",
       "    </tr>\n",
       "  </tbody>\n",
       "</table>\n",
       "</div>"
      ],
      "text/plain": [
       "        ROW_NUMBER  SUBGROUP  AVG_SPENDING  TARGET_SPENDING  AVG_CALL_COUNT  \\\n",
       "count  10000.00000   10000.0  10000.000000     10000.000000    10000.000000   \n",
       "mean   14962.91810       1.0    240.816203       301.029500       14.395480   \n",
       "std     8679.78578       0.0    124.800131       156.002615        8.372766   \n",
       "min        2.00000       1.0      3.280000         4.000000        1.010000   \n",
       "25%     7483.75000       1.0    136.855000       171.000000        7.800000   \n",
       "50%    14974.00000       1.0    238.230000       298.000000       12.940000   \n",
       "75%    22541.25000       1.0    343.710000       430.000000       19.420000   \n",
       "max    30000.00000       1.0    573.900000       717.000000       59.140000   \n",
       "\n",
       "       AVG_CALL_DUR  AVG_ACCT_BAL_BEFORE_CALL  AVG_RECHARGE_AMT  \\\n",
       "count  10000.000000              10000.000000      10000.000000   \n",
       "mean     121.403099                188.085895       1824.114785   \n",
       "std      103.825803                104.530199       1023.856148   \n",
       "min        2.050000                  5.000000         50.450000   \n",
       "25%       47.175000                 96.450000        929.612500   \n",
       "50%       91.300000                190.810000       1816.045000   \n",
       "75%      166.342500                278.882500       2708.607500   \n",
       "max      927.350000                363.990000       3600.860000   \n",
       "\n",
       "       AVG_ACCT_BAL_BEFORE_RECHARGE         LABEL  \n",
       "count                  10000.000000  10000.000000  \n",
       "mean                      35.304699      0.610700  \n",
       "std                       20.499452      0.487616  \n",
       "min                        0.000000      0.000000  \n",
       "25%                       17.555000      0.000000  \n",
       "50%                       35.190000      1.000000  \n",
       "75%                       53.002500      1.000000  \n",
       "max                       70.990000      1.000000  "
      ]
     },
     "execution_count": 269,
     "metadata": {},
     "output_type": "execute_result"
    }
   ],
   "source": [
    "# Basic statistics of the dataset\n",
    "data_grp_1.describe()"
   ]
  },
  {
   "cell_type": "code",
   "execution_count": 270,
   "metadata": {},
   "outputs": [
    {
     "name": "stdout",
     "output_type": "stream",
     "text": [
      "Accuracy for Subgroup 1: 0.858 (0.012)\n"
     ]
    }
   ],
   "source": [
    "# Define the model for subgroup 1\n",
    "RFModel1 = RandomForestClassifier(random_state=42, n_estimators=50)\n",
    "\n",
    "#Evaluate the model with 10-folds Cross Validation\n",
    "cross_valid_grp_1 = RepeatedStratifiedKFold(n_splits=10, n_repeats=3, random_state=1)\n",
    "n_scores_grp_1 = cross_val_score(RFModel1, X_grp_1, y_grp_1, scoring='accuracy', cv=cross_valid_grp_1, n_jobs=-1, error_score='raise')\n",
    "\n",
    "# report performance on subgroup 1\n",
    "print('Accuracy for Subgroup 1: %.3f (%.3f)' % (mean(n_scores_grp_1), std(n_scores_grp_1)))"
   ]
  },
  {
   "cell_type": "code",
   "execution_count": 271,
   "metadata": {},
   "outputs": [
    {
     "name": "stdout",
     "output_type": "stream",
     "text": [
      "              precision    recall  f1-score   support\n",
      "\n",
      "           0       0.84      0.80      0.82       822\n",
      "           1       0.86      0.90      0.88      1178\n",
      "\n",
      "    accuracy                           0.85      2000\n",
      "   macro avg       0.85      0.85      0.85      2000\n",
      "weighted avg       0.85      0.85      0.85      2000\n",
      "\n"
     ]
    }
   ],
   "source": [
    "# Split the data into training and testing datasets, using the 80:20 ratio to keep 20% for testing\n",
    "X_train_grp_1, X_test_grp_1, y_train_grp_1, y_test_grp_1 = train_test_split(X_grp_1, y_grp_1, test_size = 0.2, random_state = 42)\n",
    "\n",
    "# Fitting the RF Model on the training dataset\n",
    "RFModel1.fit(X_train_grp_1, y_train_grp_1)\n",
    "\n",
    "#Generate the classification report for subgroup 1\n",
    "y_hat_grp_1 = RFModel1.predict(X_test_grp_1)\n",
    "print(metrics.classification_report(y_hat_grp_1, y_test_grp_1))"
   ]
  },
  {
   "cell_type": "code",
   "execution_count": 272,
   "metadata": {},
   "outputs": [
    {
     "data": {
      "image/png": "[encoded data removed]",
      "text/plain": [
       "<Figure size 576x396 with 1 Axes>"
      ]
     },
     "metadata": {},
     "output_type": "display_data"
    }
   ],
   "source": [
    "mat_grp_1 = confusion_matrix(y_test_grp_1, y_hat_grp_1)\n",
    "sns.heatmap(mat_grp_1.T, square=True, annot=True, fmt='d', cbar=False)\n",
    "plt.xlabel('Actual label')\n",
    "plt.ylabel('Predicted label');"
   ]
  },
  {
   "cell_type": "code",
   "execution_count": 273,
   "metadata": {},
   "outputs": [
    {
     "name": "stdout",
     "output_type": "stream",
     "text": [
      "Mean Absolute Error for Subgroup 1: 0.15 degrees.\n"
     ]
    }
   ],
   "source": [
    "# Use the forest's predict method on the test data\n",
    "predictions_grp_1 = RFModel1.predict(X_test_grp_1)\n",
    "# Calculate the absolute errors\n",
    "errors_grp_1 = abs(predictions_grp_1 - y_test_grp_1)\n",
    "# Print out the mean absolute error (MAE)\n",
    "print('Mean Absolute Error for Subgroup 1:', round(np.mean(errors_grp_1), 2), 'degrees.')"
   ]
  },
  {
   "cell_type": "code",
   "execution_count": 274,
   "metadata": {},
   "outputs": [
    {
     "name": "stdout",
     "output_type": "stream",
     "text": [
      "AUC Score for the model trained on Subgroup 1: 0.8596826589467637\n"
     ]
    }
   ],
   "source": [
    "# Generate AUC-ROC curve\n",
    "# predict probabilities\n",
    "pred_prob_grp_1 = RFModel1.predict_proba(X_test_grp_1)\n",
    "\n",
    "# roc curve for models\n",
    "fpr_grp_1, tpr_grp_1, thresholds_grp_1 = roc_curve(y_test_grp_1, pred_prob_grp_1[:,1], pos_label=1)\n",
    "\n",
    "# auc scores\n",
    "auc_score_grp_1 = roc_auc_score(y_test_grp_1, pred_prob_grp_1[:,1])\n",
    "print('AUC Score for the model trained on Subgroup 1:', auc_score_grp_1)"
   ]
  },
  {
   "cell_type": "code",
   "execution_count": 275,
   "metadata": {},
   "outputs": [
    {
     "data": {
      "image/png": "[encoded data removed]",
      "text/plain": [
       "<Figure size 576x396 with 1 Axes>"
      ]
     },
     "metadata": {},
     "output_type": "display_data"
    }
   ],
   "source": [
    "# Plotting the AUC-ROC Curve\n",
    "plt.style.use('seaborn')\n",
    "\n",
    "# plot roc curves\n",
    "plt.plot(fpr_grp_1, tpr_grp_1, linestyle='--',color='orange', label='Random Forest: Subgroup 1')\n",
    "\n",
    "# title\n",
    "plt.title('Random Forest AUC-ROC Curve: Subgroup 1')\n",
    "\n",
    "# x label\n",
    "plt.xlabel('False Positive Rate (FPR)')\n",
    "\n",
    "# y label\n",
    "plt.ylabel('True Positive Rate (TPR)')\n",
    "\n",
    "plt.legend(loc='best')\n",
    "plt.savefig('ROC',dpi=300)\n",
    "plt.show();"
   ]
  },
  {
   "cell_type": "markdown",
   "metadata": {},
   "source": [
    "## 3. Training the RF model on Subgroup 2 Dataset"
   ]
  },
  {
   "cell_type": "markdown",
   "metadata": {},
   "source": [
    "Participants in the first subgroup of 10,000 subscribers were offered a package that provides 3 times more minutes compared to the average monthly minutes used by the participant to call a specific called party number. Out of this subgroup 6,107 participants equivalent to 61% of the participants in the subgroup accepted the package that cost 25% higher than the average they spent on calling the same called party number monthly in the previous 6 months considered in the research. The total spending of all participants in this subgroup is 2,212,635 RWF which means an average of 362.31 RWF per participant.\n",
    "\n",
    "In this section, the model is trained and evaluated using only Subgroup 2 dataset."
   ]
  },
  {
   "cell_type": "code",
   "execution_count": 276,
   "metadata": {},
   "outputs": [],
   "source": [
    "# Extract data related to subscribers in Subgroup 2\n",
    "data_grp_2 = data[data['SUBGROUP'] == 2]\n",
    "\n",
    "X_grp_2 = data_grp_2.drop('LABEL', axis = 1)\\\n",
    "    .drop('SUBGROUP', axis = 1)\\\n",
    "    .drop('AVG_SPENDING', axis = 1)\\\n",
    "    .drop('TARGET_SPENDING', axis = 1)\n",
    "\n",
    "y_grp_2 = np.array(data_grp_2['LABEL'])\n",
    "X_grp_2 = np.array(X_grp_2)"
   ]
  },
  {
   "cell_type": "code",
   "execution_count": 277,
   "metadata": {},
   "outputs": [
    {
     "data": {
      "text/html": [
       "<div>\n",
       "<style scoped>\n",
       "    .dataframe tbody tr th:only-of-type {\n",
       "        vertical-align: middle;\n",
       "    }\n",
       "\n",
       "    .dataframe tbody tr th {\n",
       "        vertical-align: top;\n",
       "    }\n",
       "\n",
       "    .dataframe thead th {\n",
       "        text-align: right;\n",
       "    }\n",
       "</style>\n",
       "<table border=\"1\" class=\"dataframe\">\n",
       "  <thead>\n",
       "    <tr style=\"text-align: right;\">\n",
       "      <th></th>\n",
       "      <th>ROW_NUMBER</th>\n",
       "      <th>SUBGROUP</th>\n",
       "      <th>AVG_SPENDING</th>\n",
       "      <th>TARGET_SPENDING</th>\n",
       "      <th>AVG_CALL_COUNT</th>\n",
       "      <th>AVG_CALL_DUR</th>\n",
       "      <th>AVG_ACCT_BAL_BEFORE_CALL</th>\n",
       "      <th>AVG_RECHARGE_AMT</th>\n",
       "      <th>AVG_ACCT_BAL_BEFORE_RECHARGE</th>\n",
       "      <th>LABEL</th>\n",
       "    </tr>\n",
       "  </thead>\n",
       "  <tbody>\n",
       "    <tr>\n",
       "      <th>count</th>\n",
       "      <td>10000.000000</td>\n",
       "      <td>10000.0</td>\n",
       "      <td>10000.000000</td>\n",
       "      <td>10000.000000</td>\n",
       "      <td>10000.000000</td>\n",
       "      <td>10000.000000</td>\n",
       "      <td>10000.000000</td>\n",
       "      <td>10000.000000</td>\n",
       "      <td>10000.000000</td>\n",
       "      <td>10000.000000</td>\n",
       "    </tr>\n",
       "    <tr>\n",
       "      <th>mean</th>\n",
       "      <td>15016.275600</td>\n",
       "      <td>2.0</td>\n",
       "      <td>239.913711</td>\n",
       "      <td>359.871200</td>\n",
       "      <td>14.373764</td>\n",
       "      <td>116.289331</td>\n",
       "      <td>184.649456</td>\n",
       "      <td>1821.895974</td>\n",
       "      <td>35.550932</td>\n",
       "      <td>0.552800</td>\n",
       "    </tr>\n",
       "    <tr>\n",
       "      <th>std</th>\n",
       "      <td>8642.967312</td>\n",
       "      <td>0.0</td>\n",
       "      <td>124.664192</td>\n",
       "      <td>186.994925</td>\n",
       "      <td>8.314793</td>\n",
       "      <td>98.550522</td>\n",
       "      <td>103.353585</td>\n",
       "      <td>1030.823112</td>\n",
       "      <td>20.427021</td>\n",
       "      <td>0.497229</td>\n",
       "    </tr>\n",
       "    <tr>\n",
       "      <th>min</th>\n",
       "      <td>1.000000</td>\n",
       "      <td>2.0</td>\n",
       "      <td>2.850000</td>\n",
       "      <td>4.000000</td>\n",
       "      <td>1.000000</td>\n",
       "      <td>2.030000</td>\n",
       "      <td>5.100000</td>\n",
       "      <td>50.250000</td>\n",
       "      <td>0.000000</td>\n",
       "      <td>0.000000</td>\n",
       "    </tr>\n",
       "    <tr>\n",
       "      <th>25%</th>\n",
       "      <td>7538.500000</td>\n",
       "      <td>2.0</td>\n",
       "      <td>136.147500</td>\n",
       "      <td>204.000000</td>\n",
       "      <td>7.957500</td>\n",
       "      <td>45.755000</td>\n",
       "      <td>94.557500</td>\n",
       "      <td>926.497500</td>\n",
       "      <td>17.760000</td>\n",
       "      <td>0.000000</td>\n",
       "    </tr>\n",
       "    <tr>\n",
       "      <th>50%</th>\n",
       "      <td>14973.500000</td>\n",
       "      <td>2.0</td>\n",
       "      <td>233.390000</td>\n",
       "      <td>350.000000</td>\n",
       "      <td>12.940000</td>\n",
       "      <td>88.730000</td>\n",
       "      <td>185.705000</td>\n",
       "      <td>1840.130000</td>\n",
       "      <td>35.380000</td>\n",
       "      <td>1.000000</td>\n",
       "    </tr>\n",
       "    <tr>\n",
       "      <th>75%</th>\n",
       "      <td>22448.750000</td>\n",
       "      <td>2.0</td>\n",
       "      <td>343.932500</td>\n",
       "      <td>516.000000</td>\n",
       "      <td>19.172500</td>\n",
       "      <td>158.515000</td>\n",
       "      <td>274.582500</td>\n",
       "      <td>2722.737500</td>\n",
       "      <td>53.140000</td>\n",
       "      <td>1.000000</td>\n",
       "    </tr>\n",
       "    <tr>\n",
       "      <th>max</th>\n",
       "      <td>29999.000000</td>\n",
       "      <td>2.0</td>\n",
       "      <td>585.500000</td>\n",
       "      <td>878.000000</td>\n",
       "      <td>58.100000</td>\n",
       "      <td>933.960000</td>\n",
       "      <td>363.990000</td>\n",
       "      <td>3600.920000</td>\n",
       "      <td>70.990000</td>\n",
       "      <td>1.000000</td>\n",
       "    </tr>\n",
       "  </tbody>\n",
       "</table>\n",
       "</div>"
      ],
      "text/plain": [
       "         ROW_NUMBER  SUBGROUP  AVG_SPENDING  TARGET_SPENDING  AVG_CALL_COUNT  \\\n",
       "count  10000.000000   10000.0  10000.000000     10000.000000    10000.000000   \n",
       "mean   15016.275600       2.0    239.913711       359.871200       14.373764   \n",
       "std     8642.967312       0.0    124.664192       186.994925        8.314793   \n",
       "min        1.000000       2.0      2.850000         4.000000        1.000000   \n",
       "25%     7538.500000       2.0    136.147500       204.000000        7.957500   \n",
       "50%    14973.500000       2.0    233.390000       350.000000       12.940000   \n",
       "75%    22448.750000       2.0    343.932500       516.000000       19.172500   \n",
       "max    29999.000000       2.0    585.500000       878.000000       58.100000   \n",
       "\n",
       "       AVG_CALL_DUR  AVG_ACCT_BAL_BEFORE_CALL  AVG_RECHARGE_AMT  \\\n",
       "count  10000.000000              10000.000000      10000.000000   \n",
       "mean     116.289331                184.649456       1821.895974   \n",
       "std       98.550522                103.353585       1030.823112   \n",
       "min        2.030000                  5.100000         50.250000   \n",
       "25%       45.755000                 94.557500        926.497500   \n",
       "50%       88.730000                185.705000       1840.130000   \n",
       "75%      158.515000                274.582500       2722.737500   \n",
       "max      933.960000                363.990000       3600.920000   \n",
       "\n",
       "       AVG_ACCT_BAL_BEFORE_RECHARGE         LABEL  \n",
       "count                  10000.000000  10000.000000  \n",
       "mean                      35.550932      0.552800  \n",
       "std                       20.427021      0.497229  \n",
       "min                        0.000000      0.000000  \n",
       "25%                       17.760000      0.000000  \n",
       "50%                       35.380000      1.000000  \n",
       "75%                       53.140000      1.000000  \n",
       "max                       70.990000      1.000000  "
      ]
     },
     "execution_count": 277,
     "metadata": {},
     "output_type": "execute_result"
    }
   ],
   "source": [
    "# Basic statistics of the dataset\n",
    "data_grp_2.describe()"
   ]
  },
  {
   "cell_type": "code",
   "execution_count": 278,
   "metadata": {},
   "outputs": [
    {
     "name": "stdout",
     "output_type": "stream",
     "text": [
      "Accuracy for Subgroup 2: 0.857 (0.009)\n"
     ]
    }
   ],
   "source": [
    "# Define the model for Subgroup 2\n",
    "RFModel2 = RandomForestClassifier(random_state=42, n_estimators=50)\n",
    "\n",
    "#Evaluate the model with 10-folds Cross Validation\n",
    "cross_valid_grp_2 = RepeatedStratifiedKFold(n_splits=10, n_repeats=3, random_state=1)\n",
    "n_scores_grp_2 = cross_val_score(RFModel2, X_grp_2, y_grp_2, scoring='accuracy', cv=cross_valid_grp_2, n_jobs=-1, error_score='raise')\n",
    "\n",
    "# report performance on Subgroup 2\n",
    "print('Accuracy for Subgroup 2: %.3f (%.3f)' % (mean(n_scores_grp_2), std(n_scores_grp_2)))"
   ]
  },
  {
   "cell_type": "code",
   "execution_count": 279,
   "metadata": {},
   "outputs": [
    {
     "name": "stdout",
     "output_type": "stream",
     "text": [
      "              precision    recall  f1-score   support\n",
      "\n",
      "           0       0.84      0.83      0.84       900\n",
      "           1       0.86      0.87      0.87      1100\n",
      "\n",
      "    accuracy                           0.85      2000\n",
      "   macro avg       0.85      0.85      0.85      2000\n",
      "weighted avg       0.85      0.85      0.85      2000\n",
      "\n"
     ]
    }
   ],
   "source": [
    "# Split the data into training and testing datasets, using the 80:20 ratio to keep 20% for testing\n",
    "X_train_grp_2, X_test_grp_2, y_train_grp_2, y_test_grp_2 = train_test_split(X_grp_2, y_grp_2, test_size = 0.2, random_state = 42)\n",
    "\n",
    "# Fitting the RF Model on the training dataset\n",
    "RFModel2.fit(X_train_grp_2, y_train_grp_2)\n",
    "\n",
    "#Generate the classification report for Subgroup 2\n",
    "y_hat_grp_2 = RFModel2.predict(X_test_grp_2)\n",
    "print(metrics.classification_report(y_hat_grp_2, y_test_grp_2))"
   ]
  },
  {
   "cell_type": "code",
   "execution_count": 280,
   "metadata": {},
   "outputs": [
    {
     "data": {
      "image/png": "[encoded data removed]",
      "text/plain": [
       "<Figure size 576x396 with 1 Axes>"
      ]
     },
     "metadata": {},
     "output_type": "display_data"
    }
   ],
   "source": [
    "mat_grp_2 = confusion_matrix(y_test_grp_2, y_hat_grp_2)\n",
    "sns.heatmap(mat_grp_2.T, square=True, annot=True, fmt='d', cbar=False)\n",
    "plt.xlabel('Actual label')\n",
    "plt.ylabel('Predicted label');"
   ]
  },
  {
   "cell_type": "code",
   "execution_count": 281,
   "metadata": {},
   "outputs": [
    {
     "name": "stdout",
     "output_type": "stream",
     "text": [
      "Mean Absolute Error for Subgroup 2: 0.15 degrees.\n"
     ]
    }
   ],
   "source": [
    "# Use the forest's predict method on the test data\n",
    "predictions_grp_2 = RFModel2.predict(X_test_grp_2)\n",
    "# Calculate the absolute errors\n",
    "errors_grp_2 = abs(predictions_grp_2 - y_test_grp_2)\n",
    "# Print out the mean absolute error (MAE)\n",
    "print('Mean Absolute Error for Subgroup 2:', round(np.mean(errors_grp_2), 2), 'degrees.')"
   ]
  },
  {
   "cell_type": "code",
   "execution_count": 282,
   "metadata": {},
   "outputs": [
    {
     "name": "stdout",
     "output_type": "stream",
     "text": [
      "AUC Score for the model trained on Subgroup 2: 0.8609358234639134\n"
     ]
    }
   ],
   "source": [
    "# Generate AUC-ROC curve\n",
    "# predict probabilities\n",
    "pred_prob_grp_2 = RFModel2.predict_proba(X_test_grp_2)\n",
    "\n",
    "# roc curve for models\n",
    "fpr_grp_2, tpr_grp_2, thresholds_grp_2 = roc_curve(y_test_grp_2, pred_prob_grp_2[:,1], pos_label=1)\n",
    "\n",
    "# auc scores\n",
    "auc_score_grp_2 = roc_auc_score(y_test_grp_2, pred_prob_grp_2[:,1])\n",
    "print('AUC Score for the model trained on Subgroup 2:', auc_score_grp_2)"
   ]
  },
  {
   "cell_type": "code",
   "execution_count": 283,
   "metadata": {},
   "outputs": [
    {
     "data": {
      "image/png": "[encoded data removed]",
      "text/plain": [
       "<Figure size 576x396 with 1 Axes>"
      ]
     },
     "metadata": {},
     "output_type": "display_data"
    }
   ],
   "source": [
    "# Plotting the AUC-ROC Curve\n",
    "plt.style.use('seaborn')\n",
    "\n",
    "# plot roc curves\n",
    "plt.plot(fpr_grp_2, tpr_grp_2, linestyle='--',color='orange', label='Random Forest: Subgroup 2')\n",
    "\n",
    "# title\n",
    "plt.title('Random Forest AUC-ROC Curve: Subgroup 2')\n",
    "\n",
    "# x label\n",
    "plt.xlabel('False Positive Rate (FPR)')\n",
    "\n",
    "# y label\n",
    "plt.ylabel('True Positive Rate (TPR)')\n",
    "\n",
    "plt.legend(loc='best')\n",
    "plt.savefig('ROC',dpi=300)\n",
    "plt.show();"
   ]
  },
  {
   "cell_type": "markdown",
   "metadata": {},
   "source": [
    "## 4. Training the RF model on Subgroup 3 Dataset"
   ]
  },
  {
   "cell_type": "markdown",
   "metadata": {},
   "source": [
    "Participants in the first subgroup of 10,000 subscribers were offered a package that provides 3 times more minutes compared to the average monthly minutes used by the participant to call a specific called party number. Out of this subgroup 6,107 participants equivalent to 61% of the participants in the subgroup accepted the package that cost 25% higher than the average they spent on calling the same called party number monthly in the previous 6 months considered in the research. The total spending of all participants in this subgroup is 2,212,635 RWF which means an average of 362.31 RWF per participant.\n",
    "\n",
    "In this section, the model is trained and evaluated using only Subgroup 3 dataset."
   ]
  },
  {
   "cell_type": "code",
   "execution_count": 284,
   "metadata": {},
   "outputs": [],
   "source": [
    "# Extract data related to subscribers in Subgroup 3\n",
    "data_grp_3 = data[data['SUBGROUP'] == 3]\n",
    "\n",
    "X_grp_3 = data_grp_3.drop('LABEL', axis = 1)\\\n",
    "    .drop('SUBGROUP', axis = 1)\\\n",
    "    .drop('AVG_SPENDING', axis = 1)\\\n",
    "    .drop('TARGET_SPENDING', axis = 1)\n",
    "\n",
    "y_grp_3 = np.array(data_grp_3['LABEL'])\n",
    "X_grp_3 = np.array(X_grp_3)"
   ]
  },
  {
   "cell_type": "code",
   "execution_count": 285,
   "metadata": {},
   "outputs": [
    {
     "data": {
      "text/html": [
       "<div>\n",
       "<style scoped>\n",
       "    .dataframe tbody tr th:only-of-type {\n",
       "        vertical-align: middle;\n",
       "    }\n",
       "\n",
       "    .dataframe tbody tr th {\n",
       "        vertical-align: top;\n",
       "    }\n",
       "\n",
       "    .dataframe thead th {\n",
       "        text-align: right;\n",
       "    }\n",
       "</style>\n",
       "<table border=\"1\" class=\"dataframe\">\n",
       "  <thead>\n",
       "    <tr style=\"text-align: right;\">\n",
       "      <th></th>\n",
       "      <th>ROW_NUMBER</th>\n",
       "      <th>SUBGROUP</th>\n",
       "      <th>AVG_SPENDING</th>\n",
       "      <th>TARGET_SPENDING</th>\n",
       "      <th>AVG_CALL_COUNT</th>\n",
       "      <th>AVG_CALL_DUR</th>\n",
       "      <th>AVG_ACCT_BAL_BEFORE_CALL</th>\n",
       "      <th>AVG_RECHARGE_AMT</th>\n",
       "      <th>AVG_ACCT_BAL_BEFORE_RECHARGE</th>\n",
       "      <th>LABEL</th>\n",
       "    </tr>\n",
       "  </thead>\n",
       "  <tbody>\n",
       "    <tr>\n",
       "      <th>count</th>\n",
       "      <td>10000.000000</td>\n",
       "      <td>10000.0</td>\n",
       "      <td>10000.000000</td>\n",
       "      <td>10000.000000</td>\n",
       "      <td>10000.000000</td>\n",
       "      <td>10000.000000</td>\n",
       "      <td>10000.000000</td>\n",
       "      <td>10000.000000</td>\n",
       "      <td>10000.000000</td>\n",
       "      <td>10000.000000</td>\n",
       "    </tr>\n",
       "    <tr>\n",
       "      <th>mean</th>\n",
       "      <td>15022.306300</td>\n",
       "      <td>3.0</td>\n",
       "      <td>239.451829</td>\n",
       "      <td>478.916400</td>\n",
       "      <td>14.029388</td>\n",
       "      <td>112.893521</td>\n",
       "      <td>180.258978</td>\n",
       "      <td>1836.738922</td>\n",
       "      <td>35.536471</td>\n",
       "      <td>0.481900</td>\n",
       "    </tr>\n",
       "    <tr>\n",
       "      <th>std</th>\n",
       "      <td>8659.145446</td>\n",
       "      <td>0.0</td>\n",
       "      <td>126.153060</td>\n",
       "      <td>252.308337</td>\n",
       "      <td>8.085590</td>\n",
       "      <td>100.107876</td>\n",
       "      <td>102.632295</td>\n",
       "      <td>1028.499448</td>\n",
       "      <td>20.572801</td>\n",
       "      <td>0.499697</td>\n",
       "    </tr>\n",
       "    <tr>\n",
       "      <th>min</th>\n",
       "      <td>5.000000</td>\n",
       "      <td>3.0</td>\n",
       "      <td>3.220000</td>\n",
       "      <td>6.000000</td>\n",
       "      <td>1.020000</td>\n",
       "      <td>2.090000</td>\n",
       "      <td>5.060000</td>\n",
       "      <td>51.470000</td>\n",
       "      <td>0.000000</td>\n",
       "      <td>0.000000</td>\n",
       "    </tr>\n",
       "    <tr>\n",
       "      <th>25%</th>\n",
       "      <td>7497.000000</td>\n",
       "      <td>3.0</td>\n",
       "      <td>133.435000</td>\n",
       "      <td>267.000000</td>\n",
       "      <td>7.767500</td>\n",
       "      <td>44.160000</td>\n",
       "      <td>92.562500</td>\n",
       "      <td>953.110000</td>\n",
       "      <td>17.827500</td>\n",
       "      <td>0.000000</td>\n",
       "    </tr>\n",
       "    <tr>\n",
       "      <th>50%</th>\n",
       "      <td>15063.500000</td>\n",
       "      <td>3.0</td>\n",
       "      <td>235.010000</td>\n",
       "      <td>470.000000</td>\n",
       "      <td>12.665000</td>\n",
       "      <td>84.665000</td>\n",
       "      <td>177.995000</td>\n",
       "      <td>1839.225000</td>\n",
       "      <td>35.505000</td>\n",
       "      <td>0.000000</td>\n",
       "    </tr>\n",
       "    <tr>\n",
       "      <th>75%</th>\n",
       "      <td>22514.750000</td>\n",
       "      <td>3.0</td>\n",
       "      <td>342.365000</td>\n",
       "      <td>685.000000</td>\n",
       "      <td>18.720000</td>\n",
       "      <td>147.472500</td>\n",
       "      <td>267.505000</td>\n",
       "      <td>2729.775000</td>\n",
       "      <td>53.532500</td>\n",
       "      <td>1.000000</td>\n",
       "    </tr>\n",
       "    <tr>\n",
       "      <th>max</th>\n",
       "      <td>29985.000000</td>\n",
       "      <td>3.0</td>\n",
       "      <td>583.430000</td>\n",
       "      <td>1167.000000</td>\n",
       "      <td>57.530000</td>\n",
       "      <td>853.660000</td>\n",
       "      <td>363.990000</td>\n",
       "      <td>3600.940000</td>\n",
       "      <td>70.990000</td>\n",
       "      <td>1.000000</td>\n",
       "    </tr>\n",
       "  </tbody>\n",
       "</table>\n",
       "</div>"
      ],
      "text/plain": [
       "         ROW_NUMBER  SUBGROUP  AVG_SPENDING  TARGET_SPENDING  AVG_CALL_COUNT  \\\n",
       "count  10000.000000   10000.0  10000.000000     10000.000000    10000.000000   \n",
       "mean   15022.306300       3.0    239.451829       478.916400       14.029388   \n",
       "std     8659.145446       0.0    126.153060       252.308337        8.085590   \n",
       "min        5.000000       3.0      3.220000         6.000000        1.020000   \n",
       "25%     7497.000000       3.0    133.435000       267.000000        7.767500   \n",
       "50%    15063.500000       3.0    235.010000       470.000000       12.665000   \n",
       "75%    22514.750000       3.0    342.365000       685.000000       18.720000   \n",
       "max    29985.000000       3.0    583.430000      1167.000000       57.530000   \n",
       "\n",
       "       AVG_CALL_DUR  AVG_ACCT_BAL_BEFORE_CALL  AVG_RECHARGE_AMT  \\\n",
       "count  10000.000000              10000.000000      10000.000000   \n",
       "mean     112.893521                180.258978       1836.738922   \n",
       "std      100.107876                102.632295       1028.499448   \n",
       "min        2.090000                  5.060000         51.470000   \n",
       "25%       44.160000                 92.562500        953.110000   \n",
       "50%       84.665000                177.995000       1839.225000   \n",
       "75%      147.472500                267.505000       2729.775000   \n",
       "max      853.660000                363.990000       3600.940000   \n",
       "\n",
       "       AVG_ACCT_BAL_BEFORE_RECHARGE         LABEL  \n",
       "count                  10000.000000  10000.000000  \n",
       "mean                      35.536471      0.481900  \n",
       "std                       20.572801      0.499697  \n",
       "min                        0.000000      0.000000  \n",
       "25%                       17.827500      0.000000  \n",
       "50%                       35.505000      0.000000  \n",
       "75%                       53.532500      1.000000  \n",
       "max                       70.990000      1.000000  "
      ]
     },
     "execution_count": 285,
     "metadata": {},
     "output_type": "execute_result"
    }
   ],
   "source": [
    "# Basic statistics of the dataset\n",
    "data_grp_3.describe()"
   ]
  },
  {
   "cell_type": "code",
   "execution_count": 286,
   "metadata": {},
   "outputs": [
    {
     "name": "stdout",
     "output_type": "stream",
     "text": [
      "Accuracy for Subgroup 3: 0.860 (0.009)\n"
     ]
    }
   ],
   "source": [
    "# Define the model for Subgroup 3\n",
    "RFModel3 = RandomForestClassifier(random_state=42, n_estimators=50)\n",
    "\n",
    "#Evaluate the model with 10-folds Cross Validation\n",
    "cross_valid_grp_3 = RepeatedStratifiedKFold(n_splits=10, n_repeats=3, random_state=1)\n",
    "n_scores_grp_3 = cross_val_score(RFModel3, X_grp_3, y_grp_3, scoring='accuracy', cv=cross_valid_grp_3, n_jobs=-1, error_score='raise')\n",
    "\n",
    "# report performance on Subgroup 3\n",
    "print('Accuracy for Subgroup 3: %.3f (%.3f)' % (mean(n_scores_grp_3), std(n_scores_grp_3)))"
   ]
  },
  {
   "cell_type": "code",
   "execution_count": 287,
   "metadata": {},
   "outputs": [
    {
     "name": "stdout",
     "output_type": "stream",
     "text": [
      "              precision    recall  f1-score   support\n",
      "\n",
      "           0       0.84      0.88      0.86       990\n",
      "           1       0.88      0.83      0.85      1010\n",
      "\n",
      "    accuracy                           0.85      2000\n",
      "   macro avg       0.86      0.86      0.85      2000\n",
      "weighted avg       0.86      0.85      0.85      2000\n",
      "\n"
     ]
    }
   ],
   "source": [
    "# Split the data into training and testing datasets, using the 80:20 ratio to keep 20% for testing\n",
    "X_train_grp_3, X_test_grp_3, y_train_grp_3, y_test_grp_3 = train_test_split(X_grp_3, y_grp_3, test_size = 0.2, random_state = 42)\n",
    "\n",
    "# Fitting the RF Model on the training dataset\n",
    "RFModel3.fit(X_train_grp_3, y_train_grp_3)\n",
    "\n",
    "#Generate the classification report for Subgroup 3\n",
    "y_hat_grp_3 = RFModel3.predict(X_test_grp_3)\n",
    "print(metrics.classification_report(y_hat_grp_3, y_test_grp_3))"
   ]
  },
  {
   "cell_type": "code",
   "execution_count": 288,
   "metadata": {},
   "outputs": [
    {
     "data": {
      "image/png": "[encoded data removed]",
      "text/plain": [
       "<Figure size 576x396 with 1 Axes>"
      ]
     },
     "metadata": {},
     "output_type": "display_data"
    }
   ],
   "source": [
    "mat_grp_3 = confusion_matrix(y_test_grp_3, y_hat_grp_3)\n",
    "sns.heatmap(mat_grp_3.T, square=True, annot=True, fmt='d', cbar=False)\n",
    "plt.xlabel('Actual label')\n",
    "plt.ylabel('Predicted label');"
   ]
  },
  {
   "cell_type": "code",
   "execution_count": 289,
   "metadata": {},
   "outputs": [
    {
     "name": "stdout",
     "output_type": "stream",
     "text": [
      "Mean Absolute Error for Subgroup 3: 0.14 degrees.\n"
     ]
    }
   ],
   "source": [
    "# Use the forest's predict method on the test data\n",
    "predictions_grp_3 = RFModel3.predict(X_test_grp_3)\n",
    "# Calculate the absolute errors\n",
    "errors_grp_3 = abs(predictions_grp_3 - y_test_grp_3)\n",
    "# Print out the mean absolute error (MAE)\n",
    "print('Mean Absolute Error for Subgroup 3:', round(np.mean(errors_grp_3), 2), 'degrees.')"
   ]
  },
  {
   "cell_type": "code",
   "execution_count": 290,
   "metadata": {},
   "outputs": [
    {
     "name": "stdout",
     "output_type": "stream",
     "text": [
      "AUC Score for the model trained on Subgroup 3: 0.858306552759067\n"
     ]
    }
   ],
   "source": [
    "# Generate AUC-ROC curve\n",
    "# predict probabilities\n",
    "pred_prob_grp_3 = RFModel3.predict_proba(X_test_grp_3)\n",
    "\n",
    "# roc curve for models\n",
    "fpr_grp_3, tpr_grp_3, thresholds_grp_3 = roc_curve(y_test_grp_3, pred_prob_grp_3[:,1], pos_label=1)\n",
    "\n",
    "# auc scores\n",
    "auc_score_grp_3 = roc_auc_score(y_test_grp_3, pred_prob_grp_3[:,1])\n",
    "print('AUC Score for the model trained on Subgroup 3:', auc_score_grp_3)"
   ]
  },
  {
   "cell_type": "code",
   "execution_count": 291,
   "metadata": {},
   "outputs": [
    {
     "data": {
      "image/png": "[encoded data removed]",
      "text/plain": [
       "<Figure size 576x396 with 1 Axes>"
      ]
     },
     "metadata": {},
     "output_type": "display_data"
    }
   ],
   "source": [
    "# Plotting the AUC-ROC Curve\n",
    "plt.style.use('seaborn')\n",
    "\n",
    "# plot roc curves\n",
    "plt.plot(fpr_grp_3, tpr_grp_3, linestyle='--',color='orange', label='Random Forest: Subgroup 3')\n",
    "\n",
    "# title\n",
    "plt.title('Random Forest AUC-ROC Curve: Subgroup 3')\n",
    "\n",
    "# x label\n",
    "plt.xlabel('False Positive Rate (FPR)')\n",
    "\n",
    "# y label\n",
    "plt.ylabel('True Positive Rate (TPR)')\n",
    "\n",
    "plt.legend(loc='best')\n",
    "plt.savefig('ROC',dpi=300)\n",
    "plt.show();"
   ]
  },
  {
   "cell_type": "markdown",
   "metadata": {},
   "source": [
    "## 5. Conclusion"
   ]
  },
  {
   "cell_type": "markdown",
   "metadata": {},
   "source": [
    "In general the Random Forest model is exhibiting good prediction performance with an AUC value of 0.859. This means that there is a 85.9% chance that the model will be able to distinguish between subscribers who will purchase the discounted package and those that will not."
   ]
  }
 ],
 "metadata": {
  "kernelspec": {
   "display_name": "Python 3",
   "language": "python",
   "name": "python3"
  },
  "language_info": {
   "codemirror_mode": {
    "name": "ipython",
    "version": 3
   },
   "file_extension": ".py",
   "mimetype": "text/x-python",
   "name": "python",
   "nbconvert_exporter": "python",
   "pygments_lexer": "ipython3",
   "version": "3.8.5"
  }
 },
 "nbformat": 4,
 "nbformat_minor": 4
}
